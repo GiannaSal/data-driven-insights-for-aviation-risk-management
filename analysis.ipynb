{
 "cells": [
  {
   "cell_type": "code",
   "execution_count": 2,
   "id": "95087247",
   "metadata": {},
   "outputs": [],
   "source": [
    "import pandas as pd\n",
    "df = pd.read_csv('Aviation_Data.csv', low_memory=False)\n",
    "dp = pd.read_csv('faa_incidents_data.csv', low_memory=False)"
   ]
  },
  {
   "cell_type": "code",
   "execution_count": 4,
   "id": "17b15b48",
   "metadata": {},
   "outputs": [
    {
     "data": {
      "text/html": [
       "<div>\n",
       "<style scoped>\n",
       "    .dataframe tbody tr th:only-of-type {\n",
       "        vertical-align: middle;\n",
       "    }\n",
       "\n",
       "    .dataframe tbody tr th {\n",
       "        vertical-align: top;\n",
       "    }\n",
       "\n",
       "    .dataframe thead th {\n",
       "        text-align: right;\n",
       "    }\n",
       "</style>\n",
       "<table border=\"1\" class=\"dataframe\">\n",
       "  <thead>\n",
       "    <tr style=\"text-align: right;\">\n",
       "      <th></th>\n",
       "      <th>Number.of.Engines</th>\n",
       "      <th>Total.Fatal.Injuries</th>\n",
       "      <th>Total.Serious.Injuries</th>\n",
       "      <th>Total.Minor.Injuries</th>\n",
       "      <th>Total.Uninjured</th>\n",
       "    </tr>\n",
       "  </thead>\n",
       "  <tbody>\n",
       "    <tr>\n",
       "      <th>count</th>\n",
       "      <td>82805.000000</td>\n",
       "      <td>77488.000000</td>\n",
       "      <td>76379.000000</td>\n",
       "      <td>76956.000000</td>\n",
       "      <td>82977.000000</td>\n",
       "    </tr>\n",
       "    <tr>\n",
       "      <th>mean</th>\n",
       "      <td>1.146585</td>\n",
       "      <td>0.647855</td>\n",
       "      <td>0.279881</td>\n",
       "      <td>0.357061</td>\n",
       "      <td>5.325440</td>\n",
       "    </tr>\n",
       "    <tr>\n",
       "      <th>std</th>\n",
       "      <td>0.446510</td>\n",
       "      <td>5.485960</td>\n",
       "      <td>1.544084</td>\n",
       "      <td>2.235625</td>\n",
       "      <td>27.913634</td>\n",
       "    </tr>\n",
       "    <tr>\n",
       "      <th>min</th>\n",
       "      <td>0.000000</td>\n",
       "      <td>0.000000</td>\n",
       "      <td>0.000000</td>\n",
       "      <td>0.000000</td>\n",
       "      <td>0.000000</td>\n",
       "    </tr>\n",
       "    <tr>\n",
       "      <th>25%</th>\n",
       "      <td>1.000000</td>\n",
       "      <td>0.000000</td>\n",
       "      <td>0.000000</td>\n",
       "      <td>0.000000</td>\n",
       "      <td>0.000000</td>\n",
       "    </tr>\n",
       "    <tr>\n",
       "      <th>50%</th>\n",
       "      <td>1.000000</td>\n",
       "      <td>0.000000</td>\n",
       "      <td>0.000000</td>\n",
       "      <td>0.000000</td>\n",
       "      <td>1.000000</td>\n",
       "    </tr>\n",
       "    <tr>\n",
       "      <th>75%</th>\n",
       "      <td>1.000000</td>\n",
       "      <td>0.000000</td>\n",
       "      <td>0.000000</td>\n",
       "      <td>0.000000</td>\n",
       "      <td>2.000000</td>\n",
       "    </tr>\n",
       "    <tr>\n",
       "      <th>max</th>\n",
       "      <td>8.000000</td>\n",
       "      <td>349.000000</td>\n",
       "      <td>161.000000</td>\n",
       "      <td>380.000000</td>\n",
       "      <td>699.000000</td>\n",
       "    </tr>\n",
       "  </tbody>\n",
       "</table>\n",
       "</div>"
      ],
      "text/plain": [
       "       Number.of.Engines  Total.Fatal.Injuries  Total.Serious.Injuries  \\\n",
       "count       82805.000000          77488.000000            76379.000000   \n",
       "mean            1.146585              0.647855                0.279881   \n",
       "std             0.446510              5.485960                1.544084   \n",
       "min             0.000000              0.000000                0.000000   \n",
       "25%             1.000000              0.000000                0.000000   \n",
       "50%             1.000000              0.000000                0.000000   \n",
       "75%             1.000000              0.000000                0.000000   \n",
       "max             8.000000            349.000000              161.000000   \n",
       "\n",
       "       Total.Minor.Injuries  Total.Uninjured  \n",
       "count          76956.000000     82977.000000  \n",
       "mean               0.357061         5.325440  \n",
       "std                2.235625        27.913634  \n",
       "min                0.000000         0.000000  \n",
       "25%                0.000000         0.000000  \n",
       "50%                0.000000         1.000000  \n",
       "75%                0.000000         2.000000  \n",
       "max              380.000000       699.000000  "
      ]
     },
     "execution_count": 4,
     "metadata": {},
     "output_type": "execute_result"
    }
   ],
   "source": [
    "df.describe()"
   ]
  },
  {
   "cell_type": "code",
   "execution_count": 5,
   "id": "70845134",
   "metadata": {},
   "outputs": [
    {
     "data": {
      "text/plain": [
       "Event.Id                   1459\n",
       "Investigation.Type            0\n",
       "Accident.Number            1459\n",
       "Event.Date                 1459\n",
       "Location                   1511\n",
       "Country                    1685\n",
       "Latitude                  55966\n",
       "Longitude                 55975\n",
       "Airport.Code              40216\n",
       "Airport.Name              37644\n",
       "Injury.Severity            2459\n",
       "Aircraft.damage            4653\n",
       "Aircraft.Category         58061\n",
       "Registration.Number        2841\n",
       "Make                       1522\n",
       "Model                      1551\n",
       "Amateur.Built              1561\n",
       "Number.of.Engines          7543\n",
       "Engine.Type                8555\n",
       "FAR.Description           58325\n",
       "Schedule                  77766\n",
       "Purpose.of.flight          7651\n",
       "Air.carrier               73700\n",
       "Total.Fatal.Injuries      12860\n",
       "Total.Serious.Injuries    13969\n",
       "Total.Minor.Injuries      13392\n",
       "Total.Uninjured            7371\n",
       "Weather.Condition          5951\n",
       "Broad.phase.of.flight     28624\n",
       "Report.Status              7843\n",
       "Publication.Date          16689\n",
       "dtype: int64"
      ]
     },
     "execution_count": 5,
     "metadata": {},
     "output_type": "execute_result"
    }
   ],
   "source": [
    "df.isnull().sum()"
   ]
  },
  {
   "cell_type": "code",
   "execution_count": 6,
   "id": "93f68758",
   "metadata": {},
   "outputs": [
    {
     "data": {
      "text/plain": [
       "Event.Id                  88889\n",
       "Investigation.Type        90348\n",
       "Accident.Number           88889\n",
       "Event.Date                88889\n",
       "Location                  88837\n",
       "Country                   88663\n",
       "Latitude                  34382\n",
       "Longitude                 34373\n",
       "Airport.Code              50132\n",
       "Airport.Name              52704\n",
       "Injury.Severity           87889\n",
       "Aircraft.damage           85695\n",
       "Aircraft.Category         32287\n",
       "Registration.Number       87507\n",
       "Make                      88826\n",
       "Model                     88797\n",
       "Amateur.Built             88787\n",
       "Number.of.Engines         82805\n",
       "Engine.Type               81793\n",
       "FAR.Description           32023\n",
       "Schedule                  12582\n",
       "Purpose.of.flight         82697\n",
       "Air.carrier               16648\n",
       "Total.Fatal.Injuries      77488\n",
       "Total.Serious.Injuries    76379\n",
       "Total.Minor.Injuries      76956\n",
       "Total.Uninjured           82977\n",
       "Weather.Condition         84397\n",
       "Broad.phase.of.flight     61724\n",
       "Report.Status             82505\n",
       "Publication.Date          73659\n",
       "dtype: int64"
      ]
     },
     "execution_count": 6,
     "metadata": {},
     "output_type": "execute_result"
    }
   ],
   "source": [
    "df.notna().sum()"
   ]
  },
  {
   "cell_type": "markdown",
   "id": "f6761833",
   "metadata": {},
   "source": [
    "THREE INSIGHTS:\n",
    "-----AIRCRAFT WITH LOWEST ACCIDENT SEVERITY RATES -- (alr)\n",
    "-----OPERATIONAL SAFETY STRATEGY OF AIRCRAFTS - MOST AND LEAST ACCIDENTS IN SPECIFIC WEATHER- PATTERN BTWN ACCIDENTS AND AIRCRAFT\n",
    "-----PURPOSE OF FLIGHT - CARGO , PERSONAL ETC"
   ]
  },
  {
   "cell_type": "code",
   "execution_count": 7,
   "id": "fa3816d4",
   "metadata": {},
   "outputs": [],
   "source": [
    "##AIRCRAFT WITH LOWEST ACCIDENT SEVERITY RATES\n",
    "low_accident_rate = ['Make', 'Model', 'Engine.Type', 'Number.of.Engines',\n",
    " 'Injury.Severity', 'Aircraft.damage', \n",
    " 'Investigation.Type', 'Aircraft.Category','Total.Fatal.Injuries', 'Total.Serious.Injuries',\n",
    "    'Total.Minor.Injuries', 'Total.Uninjured', 'Report.Status']\n",
    "low_accident_rates = df[low_accident_rate]"
   ]
  },
  {
   "cell_type": "code",
   "execution_count": 8,
   "id": "78b3f6fb",
   "metadata": {},
   "outputs": [
    {
     "data": {
      "text/plain": [
       "100000"
      ]
     },
     "execution_count": 8,
     "metadata": {},
     "output_type": "execute_result"
    }
   ],
   "source": [
    "len(dp)"
   ]
  },
  {
   "cell_type": "code",
   "execution_count": 9,
   "id": "49eae51a",
   "metadata": {},
   "outputs": [
    {
     "data": {
      "text/plain": [
       "Investigation.Type\n",
       "Accident      85015\n",
       "Incident       3874\n",
       "25-09-2020      702\n",
       "26-09-2020       60\n",
       "02-02-2021       39\n",
       "              ...  \n",
       "13-09-2021        1\n",
       "04-08-2021        1\n",
       "05-08-2022        1\n",
       "03-11-2020        1\n",
       "06-01-2021        1\n",
       "Name: count, Length: 71, dtype: int64"
      ]
     },
     "execution_count": 9,
     "metadata": {},
     "output_type": "execute_result"
    }
   ],
   "source": [
    "df['Investigation.Type'].value_counts()"
   ]
  },
  {
   "cell_type": "code",
   "execution_count": 10,
   "id": "dbbba27c",
   "metadata": {},
   "outputs": [
    {
     "data": {
      "text/html": [
       "<div>\n",
       "<style scoped>\n",
       "    .dataframe tbody tr th:only-of-type {\n",
       "        vertical-align: middle;\n",
       "    }\n",
       "\n",
       "    .dataframe tbody tr th {\n",
       "        vertical-align: top;\n",
       "    }\n",
       "\n",
       "    .dataframe thead th {\n",
       "        text-align: right;\n",
       "    }\n",
       "</style>\n",
       "<table border=\"1\" class=\"dataframe\">\n",
       "  <thead>\n",
       "    <tr style=\"text-align: right;\">\n",
       "      <th></th>\n",
       "      <th>Make</th>\n",
       "      <th>Model</th>\n",
       "      <th>Engine.Type</th>\n",
       "      <th>Number.of.Engines</th>\n",
       "      <th>Injury.Severity</th>\n",
       "      <th>Aircraft.damage</th>\n",
       "      <th>Investigation.Type</th>\n",
       "      <th>Aircraft.Category</th>\n",
       "      <th>Total.Fatal.Injuries</th>\n",
       "      <th>Total.Serious.Injuries</th>\n",
       "      <th>Total.Minor.Injuries</th>\n",
       "      <th>Total.Uninjured</th>\n",
       "      <th>Report.Status</th>\n",
       "    </tr>\n",
       "  </thead>\n",
       "  <tbody>\n",
       "    <tr>\n",
       "      <th>0</th>\n",
       "      <td>Stinson</td>\n",
       "      <td>108-3</td>\n",
       "      <td>Reciprocating</td>\n",
       "      <td>1.0</td>\n",
       "      <td>Fatal(2)</td>\n",
       "      <td>Destroyed</td>\n",
       "      <td>Accident</td>\n",
       "      <td>NaN</td>\n",
       "      <td>2.0</td>\n",
       "      <td>0.0</td>\n",
       "      <td>0.0</td>\n",
       "      <td>0.0</td>\n",
       "      <td>Probable Cause</td>\n",
       "    </tr>\n",
       "    <tr>\n",
       "      <th>1</th>\n",
       "      <td>Piper</td>\n",
       "      <td>PA24-180</td>\n",
       "      <td>Reciprocating</td>\n",
       "      <td>1.0</td>\n",
       "      <td>Fatal(4)</td>\n",
       "      <td>Destroyed</td>\n",
       "      <td>Accident</td>\n",
       "      <td>NaN</td>\n",
       "      <td>4.0</td>\n",
       "      <td>0.0</td>\n",
       "      <td>0.0</td>\n",
       "      <td>0.0</td>\n",
       "      <td>Probable Cause</td>\n",
       "    </tr>\n",
       "    <tr>\n",
       "      <th>2</th>\n",
       "      <td>Cessna</td>\n",
       "      <td>172M</td>\n",
       "      <td>Reciprocating</td>\n",
       "      <td>1.0</td>\n",
       "      <td>Fatal(3)</td>\n",
       "      <td>Destroyed</td>\n",
       "      <td>Accident</td>\n",
       "      <td>NaN</td>\n",
       "      <td>3.0</td>\n",
       "      <td>NaN</td>\n",
       "      <td>NaN</td>\n",
       "      <td>NaN</td>\n",
       "      <td>Probable Cause</td>\n",
       "    </tr>\n",
       "    <tr>\n",
       "      <th>3</th>\n",
       "      <td>Rockwell</td>\n",
       "      <td>112</td>\n",
       "      <td>Reciprocating</td>\n",
       "      <td>1.0</td>\n",
       "      <td>Fatal(2)</td>\n",
       "      <td>Destroyed</td>\n",
       "      <td>Accident</td>\n",
       "      <td>NaN</td>\n",
       "      <td>2.0</td>\n",
       "      <td>0.0</td>\n",
       "      <td>0.0</td>\n",
       "      <td>0.0</td>\n",
       "      <td>Probable Cause</td>\n",
       "    </tr>\n",
       "    <tr>\n",
       "      <th>4</th>\n",
       "      <td>Cessna</td>\n",
       "      <td>501</td>\n",
       "      <td>NaN</td>\n",
       "      <td>NaN</td>\n",
       "      <td>Fatal(1)</td>\n",
       "      <td>Destroyed</td>\n",
       "      <td>Accident</td>\n",
       "      <td>NaN</td>\n",
       "      <td>1.0</td>\n",
       "      <td>2.0</td>\n",
       "      <td>NaN</td>\n",
       "      <td>0.0</td>\n",
       "      <td>Probable Cause</td>\n",
       "    </tr>\n",
       "  </tbody>\n",
       "</table>\n",
       "</div>"
      ],
      "text/plain": [
       "       Make     Model    Engine.Type  Number.of.Engines Injury.Severity  \\\n",
       "0   Stinson     108-3  Reciprocating                1.0        Fatal(2)   \n",
       "1     Piper  PA24-180  Reciprocating                1.0        Fatal(4)   \n",
       "2    Cessna      172M  Reciprocating                1.0        Fatal(3)   \n",
       "3  Rockwell       112  Reciprocating                1.0        Fatal(2)   \n",
       "4    Cessna       501            NaN                NaN        Fatal(1)   \n",
       "\n",
       "  Aircraft.damage Investigation.Type Aircraft.Category  Total.Fatal.Injuries  \\\n",
       "0       Destroyed           Accident               NaN                   2.0   \n",
       "1       Destroyed           Accident               NaN                   4.0   \n",
       "2       Destroyed           Accident               NaN                   3.0   \n",
       "3       Destroyed           Accident               NaN                   2.0   \n",
       "4       Destroyed           Accident               NaN                   1.0   \n",
       "\n",
       "   Total.Serious.Injuries  Total.Minor.Injuries  Total.Uninjured  \\\n",
       "0                     0.0                   0.0              0.0   \n",
       "1                     0.0                   0.0              0.0   \n",
       "2                     NaN                   NaN              NaN   \n",
       "3                     0.0                   0.0              0.0   \n",
       "4                     2.0                   NaN              0.0   \n",
       "\n",
       "    Report.Status  \n",
       "0  Probable Cause  \n",
       "1  Probable Cause  \n",
       "2  Probable Cause  \n",
       "3  Probable Cause  \n",
       "4  Probable Cause  "
      ]
     },
     "execution_count": 10,
     "metadata": {},
     "output_type": "execute_result"
    }
   ],
   "source": [
    "low_accident_rates.head()"
   ]
  },
  {
   "cell_type": "code",
   "execution_count": 11,
   "id": "20493ff1",
   "metadata": {},
   "outputs": [],
   "source": [
    "##PURPOSE OF FLIGHT RISKS\n",
    "purpose_of_flight = ['Purpose.of.flight', 'Schedule', 'Investigation.Type']\n",
    "purpose_of_flight_risk = df[purpose_of_flight]"
   ]
  },
  {
   "cell_type": "code",
   "execution_count": 12,
   "id": "ea78304c",
   "metadata": {},
   "outputs": [
    {
     "data": {
      "text/html": [
       "<div>\n",
       "<style scoped>\n",
       "    .dataframe tbody tr th:only-of-type {\n",
       "        vertical-align: middle;\n",
       "    }\n",
       "\n",
       "    .dataframe tbody tr th {\n",
       "        vertical-align: top;\n",
       "    }\n",
       "\n",
       "    .dataframe thead th {\n",
       "        text-align: right;\n",
       "    }\n",
       "</style>\n",
       "<table border=\"1\" class=\"dataframe\">\n",
       "  <thead>\n",
       "    <tr style=\"text-align: right;\">\n",
       "      <th></th>\n",
       "      <th>Purpose.of.flight</th>\n",
       "      <th>Schedule</th>\n",
       "      <th>Investigation.Type</th>\n",
       "    </tr>\n",
       "  </thead>\n",
       "  <tbody>\n",
       "    <tr>\n",
       "      <th>0</th>\n",
       "      <td>Personal</td>\n",
       "      <td>NaN</td>\n",
       "      <td>Accident</td>\n",
       "    </tr>\n",
       "    <tr>\n",
       "      <th>1</th>\n",
       "      <td>Personal</td>\n",
       "      <td>NaN</td>\n",
       "      <td>Accident</td>\n",
       "    </tr>\n",
       "    <tr>\n",
       "      <th>2</th>\n",
       "      <td>Personal</td>\n",
       "      <td>NaN</td>\n",
       "      <td>Accident</td>\n",
       "    </tr>\n",
       "    <tr>\n",
       "      <th>3</th>\n",
       "      <td>Personal</td>\n",
       "      <td>NaN</td>\n",
       "      <td>Accident</td>\n",
       "    </tr>\n",
       "    <tr>\n",
       "      <th>4</th>\n",
       "      <td>Personal</td>\n",
       "      <td>NaN</td>\n",
       "      <td>Accident</td>\n",
       "    </tr>\n",
       "  </tbody>\n",
       "</table>\n",
       "</div>"
      ],
      "text/plain": [
       "  Purpose.of.flight Schedule Investigation.Type\n",
       "0          Personal      NaN           Accident\n",
       "1          Personal      NaN           Accident\n",
       "2          Personal      NaN           Accident\n",
       "3          Personal      NaN           Accident\n",
       "4          Personal      NaN           Accident"
      ]
     },
     "execution_count": 12,
     "metadata": {},
     "output_type": "execute_result"
    }
   ],
   "source": [
    "purpose_of_flight_risk.head()"
   ]
  },
  {
   "cell_type": "code",
   "execution_count": 13,
   "id": "68c46c7c",
   "metadata": {},
   "outputs": [],
   "source": [
    "##OPERATIONAL SAFETY STRATEGY OF AIRCRAFTS\n",
    "weather_flight_phase = ['Weather.Condition', 'Broad.phase.of.flight', 'Location', 'Country']\n",
    "weather_flight_phase_risk = df[weather_flight_phase]\n"
   ]
  },
  {
   "cell_type": "code",
   "execution_count": 14,
   "id": "4ef7e312",
   "metadata": {},
   "outputs": [
    {
     "data": {
      "text/html": [
       "<div>\n",
       "<style scoped>\n",
       "    .dataframe tbody tr th:only-of-type {\n",
       "        vertical-align: middle;\n",
       "    }\n",
       "\n",
       "    .dataframe tbody tr th {\n",
       "        vertical-align: top;\n",
       "    }\n",
       "\n",
       "    .dataframe thead th {\n",
       "        text-align: right;\n",
       "    }\n",
       "</style>\n",
       "<table border=\"1\" class=\"dataframe\">\n",
       "  <thead>\n",
       "    <tr style=\"text-align: right;\">\n",
       "      <th></th>\n",
       "      <th>Weather.Condition</th>\n",
       "      <th>Broad.phase.of.flight</th>\n",
       "      <th>Location</th>\n",
       "      <th>Country</th>\n",
       "    </tr>\n",
       "  </thead>\n",
       "  <tbody>\n",
       "    <tr>\n",
       "      <th>0</th>\n",
       "      <td>UNK</td>\n",
       "      <td>Cruise</td>\n",
       "      <td>MOOSE CREEK, ID</td>\n",
       "      <td>United States</td>\n",
       "    </tr>\n",
       "    <tr>\n",
       "      <th>1</th>\n",
       "      <td>UNK</td>\n",
       "      <td>Unknown</td>\n",
       "      <td>BRIDGEPORT, CA</td>\n",
       "      <td>United States</td>\n",
       "    </tr>\n",
       "    <tr>\n",
       "      <th>2</th>\n",
       "      <td>IMC</td>\n",
       "      <td>Cruise</td>\n",
       "      <td>Saltville, VA</td>\n",
       "      <td>United States</td>\n",
       "    </tr>\n",
       "    <tr>\n",
       "      <th>3</th>\n",
       "      <td>IMC</td>\n",
       "      <td>Cruise</td>\n",
       "      <td>EUREKA, CA</td>\n",
       "      <td>United States</td>\n",
       "    </tr>\n",
       "    <tr>\n",
       "      <th>4</th>\n",
       "      <td>VMC</td>\n",
       "      <td>Approach</td>\n",
       "      <td>Canton, OH</td>\n",
       "      <td>United States</td>\n",
       "    </tr>\n",
       "  </tbody>\n",
       "</table>\n",
       "</div>"
      ],
      "text/plain": [
       "  Weather.Condition Broad.phase.of.flight         Location        Country\n",
       "0               UNK                Cruise  MOOSE CREEK, ID  United States\n",
       "1               UNK               Unknown   BRIDGEPORT, CA  United States\n",
       "2               IMC                Cruise    Saltville, VA  United States\n",
       "3               IMC                Cruise       EUREKA, CA  United States\n",
       "4               VMC              Approach       Canton, OH  United States"
      ]
     },
     "execution_count": 14,
     "metadata": {},
     "output_type": "execute_result"
    }
   ],
   "source": [
    "weather_flight_phase_risk.head()"
   ]
  },
  {
   "cell_type": "markdown",
   "id": "c083e71d",
   "metadata": {},
   "source": [
    "ANALYSIS OF LOW ACCIDENT RATES COLUMNS "
   ]
  },
  {
   "cell_type": "code",
   "execution_count": 15,
   "id": "28dfe95e",
   "metadata": {},
   "outputs": [
    {
     "data": {
      "text/plain": [
       "Report.Status\n",
       "Probable Cause                                                                                                                                                                                                                                                                                                                                                                                                                                                                                                                                                                                                                                                                                                        61754\n",
       "NaN                                                                                                                                                                                                                                                                                                                                                                                                                                                                                                                                                                                                                                                                                                                    7843\n",
       "Foreign                                                                                                                                                                                                                                                                                                                                                                                                                                                                                                                                                                                                                                                                                                                1999\n",
       "<br /><br />                                                                                                                                                                                                                                                                                                                                                                                                                                                                                                                                                                                                                                                                                                            167\n",
       "Factual                                                                                                                                                                                                                                                                                                                                                                                                                                                                                                                                                                                                                                                                                                                 145\n",
       "                                                                                                                                                                                                                                                                                                                                                                                                                                                                                                                                                                                                                                                                                                                      ...  \n",
       "The certified flight instructor's delayed remedial action and inadequate supervision during a practice autorotation. Contributing to the accident was the student pilot's excessive application of the throttle.                                                                                                                                                                                                                                                                                                                                                                                                                                                                                                          1\n",
       "The pilot's inadequate fuel management, which resulted in a loss of engine power due to fuel starvation.                                                                                                                                                                                                                                                                                                                                                                                                                                                                                                                                                                                                                  1\n",
       "Sundance Helicopters inadequate maintenance of the helicopter, including (1) the improper reuse of a degraded self-locking nut, (2) the improper or lack of installation of a split pin, and (3) inadequate postmaintenance inspections, which resulted in the in-flight separation of the servo control input rod from the fore/aft servo and rendered the helicopter uncontrollable. Contributing to the improper or lack of installation of the split pin was the mechanics fatigue and the lack of clearly delineated maintenance task steps to follow. Contributing to the inadequate postmaintenance inspection was the inspectors fatigue and the lack of clearly delineated inspection steps to follow.        1\n",
       "The total loss of engine power for reasons that could not be determined because postaccident examination of the airframe and engine did not reveal evidence of preaccident mechanical malfunctions or failures that would have precluded normal operation.                                                                                                                                                                                                                                                                                                                                                                                                                                                                1\n",
       "The pilots loss of control due to a wind gust during landing.                                                                                                                                                                                                                                                                                                                                                                                                                                                                                                                                                                                                                                                            1\n",
       "Name: count, Length: 17007, dtype: int64"
      ]
     },
     "execution_count": 15,
     "metadata": {},
     "output_type": "execute_result"
    }
   ],
   "source": [
    "##Determine unique values in report status which shows us stage of investigation\n",
    "df['Report.Status'].value_counts(dropna=False)"
   ]
  },
  {
   "cell_type": "code",
   "execution_count": 16,
   "id": "6755fb05",
   "metadata": {},
   "outputs": [
    {
     "name": "stdout",
     "output_type": "stream",
     "text": [
      "2.7216983220436535\n",
      "90348\n"
     ]
    }
   ],
   "source": [
    "##percentage of null values in injury severity\n",
    "to = len(df['Injury.Severity'])\n",
    "print((df['Injury.Severity'].isnull().sum() / to)*100)\n",
    "print(to)\n"
   ]
  },
  {
   "cell_type": "code",
   "execution_count": 17,
   "id": "0d666f32",
   "metadata": {},
   "outputs": [
    {
     "data": {
      "text/plain": [
       "Injury.Severity\n",
       "Non-Fatal     67357\n",
       "Fatal(1)       6167\n",
       "Fatal          5262\n",
       "Fatal(2)       3711\n",
       "NaN            2459\n",
       "              ...  \n",
       "Fatal(80)         1\n",
       "Fatal(217)        1\n",
       "Fatal(169)        1\n",
       "Fatal(88)         1\n",
       "Fatal(189)        1\n",
       "Name: count, Length: 110, dtype: int64"
      ]
     },
     "execution_count": 17,
     "metadata": {},
     "output_type": "execute_result"
    }
   ],
   "source": [
    "df['Injury.Severity'].value_counts(dropna=False)"
   ]
  },
  {
   "cell_type": "code",
   "execution_count": 18,
   "id": "deeefe6b",
   "metadata": {},
   "outputs": [
    {
     "name": "stdout",
     "output_type": "stream",
     "text": [
      "5.150086332846328\n",
      "90348\n"
     ]
    }
   ],
   "source": [
    "##percentage of null values in aircraft damage\n",
    "tl = len(df['Aircraft.damage'])\n",
    "print((df['Aircraft.damage'].isnull().sum() / tl)*100)\n",
    "print(tl)\n"
   ]
  },
  {
   "cell_type": "code",
   "execution_count": 19,
   "id": "438b2aae",
   "metadata": {},
   "outputs": [
    {
     "data": {
      "text/plain": [
       "Aircraft.damage\n",
       "Substantial    64148\n",
       "Destroyed      18623\n",
       "NaN             4653\n",
       "Minor           2805\n",
       "Unknown          119\n",
       "Name: count, dtype: int64"
      ]
     },
     "execution_count": 19,
     "metadata": {},
     "output_type": "execute_result"
    }
   ],
   "source": [
    "df['Aircraft.damage'].value_counts(dropna=False)"
   ]
  },
  {
   "cell_type": "code",
   "execution_count": 20,
   "id": "9888ddec",
   "metadata": {},
   "outputs": [
    {
     "name": "stdout",
     "output_type": "stream",
     "text": [
      "64.26373577721698\n",
      "90348\n"
     ]
    }
   ],
   "source": [
    "##percentage of null values in aircaft category\n",
    "tt = len(df['Aircraft.Category'])\n",
    "print((df['Aircraft.Category'].isnull().sum() / tt)*100)\n",
    "print(tt)\n"
   ]
  },
  {
   "cell_type": "code",
   "execution_count": 21,
   "id": "372ef07a",
   "metadata": {},
   "outputs": [
    {
     "data": {
      "text/plain": [
       "Engine.Type\n",
       "Reciprocating      69530\n",
       "NaN                 8555\n",
       "Turbo Shaft         3609\n",
       "Turbo Prop          3391\n",
       "Turbo Fan           2481\n",
       "Unknown             2051\n",
       "Turbo Jet            703\n",
       "Geared Turbofan       12\n",
       "Electric              10\n",
       "LR                     2\n",
       "NONE                   2\n",
       "Hybrid Rocket          1\n",
       "UNK                    1\n",
       "Name: count, dtype: int64"
      ]
     },
     "execution_count": 21,
     "metadata": {},
     "output_type": "execute_result"
    }
   ],
   "source": [
    "df['Aircraft.Category'].value_counts(dropna=False)\n",
    "df['Engine.Type'].value_counts(dropna=False)"
   ]
  },
  {
   "cell_type": "code",
   "execution_count": 22,
   "id": "8e6f797d",
   "metadata": {},
   "outputs": [
    {
     "data": {
      "text/html": [
       "<div>\n",
       "<style scoped>\n",
       "    .dataframe tbody tr th:only-of-type {\n",
       "        vertical-align: middle;\n",
       "    }\n",
       "\n",
       "    .dataframe tbody tr th {\n",
       "        vertical-align: top;\n",
       "    }\n",
       "\n",
       "    .dataframe thead th {\n",
       "        text-align: right;\n",
       "    }\n",
       "</style>\n",
       "<table border=\"1\" class=\"dataframe\">\n",
       "  <thead>\n",
       "    <tr style=\"text-align: right;\">\n",
       "      <th></th>\n",
       "      <th>Make</th>\n",
       "      <th>Model</th>\n",
       "      <th>Engine.Type</th>\n",
       "      <th>Number.of.Engines</th>\n",
       "      <th>Aircraft.Category</th>\n",
       "    </tr>\n",
       "  </thead>\n",
       "  <tbody>\n",
       "    <tr>\n",
       "      <th>0</th>\n",
       "      <td>Stinson</td>\n",
       "      <td>108-3</td>\n",
       "      <td>Reciprocating</td>\n",
       "      <td>1.0</td>\n",
       "      <td>NaN</td>\n",
       "    </tr>\n",
       "    <tr>\n",
       "      <th>1</th>\n",
       "      <td>Piper</td>\n",
       "      <td>PA24-180</td>\n",
       "      <td>Reciprocating</td>\n",
       "      <td>1.0</td>\n",
       "      <td>NaN</td>\n",
       "    </tr>\n",
       "    <tr>\n",
       "      <th>2</th>\n",
       "      <td>Cessna</td>\n",
       "      <td>172M</td>\n",
       "      <td>Reciprocating</td>\n",
       "      <td>1.0</td>\n",
       "      <td>NaN</td>\n",
       "    </tr>\n",
       "    <tr>\n",
       "      <th>3</th>\n",
       "      <td>Rockwell</td>\n",
       "      <td>112</td>\n",
       "      <td>Reciprocating</td>\n",
       "      <td>1.0</td>\n",
       "      <td>NaN</td>\n",
       "    </tr>\n",
       "    <tr>\n",
       "      <th>4</th>\n",
       "      <td>Cessna</td>\n",
       "      <td>501</td>\n",
       "      <td>NaN</td>\n",
       "      <td>NaN</td>\n",
       "      <td>NaN</td>\n",
       "    </tr>\n",
       "    <tr>\n",
       "      <th>...</th>\n",
       "      <td>...</td>\n",
       "      <td>...</td>\n",
       "      <td>...</td>\n",
       "      <td>...</td>\n",
       "      <td>...</td>\n",
       "    </tr>\n",
       "    <tr>\n",
       "      <th>90342</th>\n",
       "      <td>AIR TRACTOR</td>\n",
       "      <td>AT502</td>\n",
       "      <td>NaN</td>\n",
       "      <td>NaN</td>\n",
       "      <td>NaN</td>\n",
       "    </tr>\n",
       "    <tr>\n",
       "      <th>90343</th>\n",
       "      <td>PIPER</td>\n",
       "      <td>PA-28-151</td>\n",
       "      <td>NaN</td>\n",
       "      <td>NaN</td>\n",
       "      <td>NaN</td>\n",
       "    </tr>\n",
       "    <tr>\n",
       "      <th>90344</th>\n",
       "      <td>BELLANCA</td>\n",
       "      <td>7ECA</td>\n",
       "      <td>NaN</td>\n",
       "      <td>NaN</td>\n",
       "      <td>NaN</td>\n",
       "    </tr>\n",
       "    <tr>\n",
       "      <th>90346</th>\n",
       "      <td>CESSNA</td>\n",
       "      <td>210N</td>\n",
       "      <td>NaN</td>\n",
       "      <td>NaN</td>\n",
       "      <td>NaN</td>\n",
       "    </tr>\n",
       "    <tr>\n",
       "      <th>90347</th>\n",
       "      <td>PIPER</td>\n",
       "      <td>PA-24-260</td>\n",
       "      <td>NaN</td>\n",
       "      <td>NaN</td>\n",
       "      <td>NaN</td>\n",
       "    </tr>\n",
       "  </tbody>\n",
       "</table>\n",
       "<p>58061 rows × 5 columns</p>\n",
       "</div>"
      ],
      "text/plain": [
       "              Make      Model    Engine.Type  Number.of.Engines  \\\n",
       "0          Stinson      108-3  Reciprocating                1.0   \n",
       "1            Piper   PA24-180  Reciprocating                1.0   \n",
       "2           Cessna       172M  Reciprocating                1.0   \n",
       "3         Rockwell        112  Reciprocating                1.0   \n",
       "4           Cessna        501            NaN                NaN   \n",
       "...            ...        ...            ...                ...   \n",
       "90342  AIR TRACTOR      AT502            NaN                NaN   \n",
       "90343        PIPER  PA-28-151            NaN                NaN   \n",
       "90344     BELLANCA       7ECA            NaN                NaN   \n",
       "90346       CESSNA       210N            NaN                NaN   \n",
       "90347        PIPER  PA-24-260            NaN                NaN   \n",
       "\n",
       "      Aircraft.Category  \n",
       "0                   NaN  \n",
       "1                   NaN  \n",
       "2                   NaN  \n",
       "3                   NaN  \n",
       "4                   NaN  \n",
       "...                 ...  \n",
       "90342               NaN  \n",
       "90343               NaN  \n",
       "90344               NaN  \n",
       "90346               NaN  \n",
       "90347               NaN  \n",
       "\n",
       "[58061 rows x 5 columns]"
      ]
     },
     "execution_count": 22,
     "metadata": {},
     "output_type": "execute_result"
    }
   ],
   "source": [
    "##we need these columns in order to infer aircraft category. we filter and keep null values to work with\n",
    "fill_null_air_cat = df[['Make', 'Model', 'Engine.Type', 'Number.of.Engines', 'Aircraft.Category']]\n",
    "\n",
    "fill_null_air_cat = fill_null_air_cat[fill_null_air_cat['Aircraft.Category'].isna()]\n",
    "fill_null_air_cat"
   ]
  },
  {
   "cell_type": "code",
   "execution_count": 23,
   "id": "d553370a",
   "metadata": {},
   "outputs": [],
   "source": [
    "#cant deduce aircraft category without both enginetype and number of engines hnce need to drop missing values in those 2 columns\n",
    "can_fill_air_cat = fill_null_air_cat.dropna(subset=['Engine.Type', 'Number.of.Engines'])"
   ]
  },
  {
   "cell_type": "code",
   "execution_count": 24,
   "id": "15a77f0c",
   "metadata": {},
   "outputs": [],
   "source": [
    "#cant deduce aircraft category without both enginetype and number of engines hnce need to drop missing values in those 2 columns\n",
    "can_fill_air_cat = fill_null_air_cat.dropna(subset=['Engine.Type', 'Number.of.Engines'])\n",
    "fill_groups = can_fill_air_cat.groupby('Make')## Grouping aircrafts accordingto their make\n",
    "fill_groups_df = fill_groups.apply(lambda x:x)\n",
    "fill_groups_df.to_csv(\"aircraft groups per make\")\n",
    "\n",
    "#print(fill_groups.groups)\n",
    "#can_fill_air_cat.to_csv(\"filling null aircraft category\")"
   ]
  },
  {
   "cell_type": "code",
   "execution_count": 25,
   "id": "cdb6cd13",
   "metadata": {},
   "outputs": [],
   "source": [
    "# Lowercase and strip spaces for consistency\n",
    "df['Engine.Type'] = df['Engine.Type'].astype(str).str.lower().str.strip()\n",
    "\n",
    "# Create confidence column\n",
    "df['Category.Confidence'] = 'Low'\n",
    "\n",
    "# Mapping engine type → category\n",
    "engine_to_category = {\n",
    "    'reciprocating': 'Airplane',\n",
    "    'turbo shaft': 'Helicopter',\n",
    "    'turboshaft': 'Helicopter',\n",
    "    'turbo prop': 'Airplane',\n",
    "    'turboprop': 'Airplane',\n",
    "    'turbo fan': 'Airplane',\n",
    "    'turbofan': 'Airplane',\n",
    "    'turbo jet': 'Airplane',\n",
    "    'turbojet': 'Airplane',\n",
    "    'geared turbofan': 'Airplane',\n",
    "    'electric': 'Airplane',\n",
    "    'hybrid rocket': 'Rocket'\n",
    "}\n",
    "\n",
    "\n",
    "# Apply rules\n",
    "for key, value in engine_to_category.items():\n",
    "    mask = df['Engine.Type'].str.contains(key, na=False)\n",
    "    df.loc[mask & df['Aircraft.Category'].isna(), 'Aircraft.Category'] = value\n",
    "    df.loc[mask, 'Category.Confidence'] = 'High'\n",
    "\n",
    "# Mark clearly unknown cases\n",
    "unknown_mask = df['Engine.Type'].str.contains('unknown|unk|none|lr', na=False)\n",
    "df.loc[unknown_mask & df['Aircraft.Category'].isna(), 'Aircraft.Category'] = 'Unknown'\n",
    "df.loc[unknown_mask, 'Category.Confidence'] = 'Low'"
   ]
  },
  {
   "cell_type": "code",
   "execution_count": null,
   "id": "5a8d05a9",
   "metadata": {},
   "outputs": [],
   "source": []
  },
  {
   "cell_type": "code",
   "execution_count": 26,
   "id": "492d1ad6",
   "metadata": {},
   "outputs": [
    {
     "data": {
      "text/html": [
       "<div>\n",
       "<style scoped>\n",
       "    .dataframe tbody tr th:only-of-type {\n",
       "        vertical-align: middle;\n",
       "    }\n",
       "\n",
       "    .dataframe tbody tr th {\n",
       "        vertical-align: top;\n",
       "    }\n",
       "\n",
       "    .dataframe thead th {\n",
       "        text-align: right;\n",
       "    }\n",
       "</style>\n",
       "<table border=\"1\" class=\"dataframe\">\n",
       "  <thead>\n",
       "    <tr style=\"text-align: right;\">\n",
       "      <th></th>\n",
       "      <th>Make</th>\n",
       "      <th>Model</th>\n",
       "      <th>Engine.Type</th>\n",
       "      <th>Number.of.Engines</th>\n",
       "      <th>Aircraft.Category</th>\n",
       "    </tr>\n",
       "  </thead>\n",
       "  <tbody>\n",
       "    <tr>\n",
       "      <th>0</th>\n",
       "      <td>Stinson</td>\n",
       "      <td>108-3</td>\n",
       "      <td>reciprocating</td>\n",
       "      <td>1.0</td>\n",
       "      <td>Airplane</td>\n",
       "    </tr>\n",
       "    <tr>\n",
       "      <th>1</th>\n",
       "      <td>Piper</td>\n",
       "      <td>PA24-180</td>\n",
       "      <td>reciprocating</td>\n",
       "      <td>1.0</td>\n",
       "      <td>Airplane</td>\n",
       "    </tr>\n",
       "    <tr>\n",
       "      <th>2</th>\n",
       "      <td>Cessna</td>\n",
       "      <td>172M</td>\n",
       "      <td>reciprocating</td>\n",
       "      <td>1.0</td>\n",
       "      <td>Airplane</td>\n",
       "    </tr>\n",
       "    <tr>\n",
       "      <th>3</th>\n",
       "      <td>Rockwell</td>\n",
       "      <td>112</td>\n",
       "      <td>reciprocating</td>\n",
       "      <td>1.0</td>\n",
       "      <td>Airplane</td>\n",
       "    </tr>\n",
       "    <tr>\n",
       "      <th>4</th>\n",
       "      <td>Cessna</td>\n",
       "      <td>501</td>\n",
       "      <td>nan</td>\n",
       "      <td>NaN</td>\n",
       "      <td>NaN</td>\n",
       "    </tr>\n",
       "    <tr>\n",
       "      <th>...</th>\n",
       "      <td>...</td>\n",
       "      <td>...</td>\n",
       "      <td>...</td>\n",
       "      <td>...</td>\n",
       "      <td>...</td>\n",
       "    </tr>\n",
       "    <tr>\n",
       "      <th>90343</th>\n",
       "      <td>PIPER</td>\n",
       "      <td>PA-28-151</td>\n",
       "      <td>nan</td>\n",
       "      <td>NaN</td>\n",
       "      <td>NaN</td>\n",
       "    </tr>\n",
       "    <tr>\n",
       "      <th>90344</th>\n",
       "      <td>BELLANCA</td>\n",
       "      <td>7ECA</td>\n",
       "      <td>nan</td>\n",
       "      <td>NaN</td>\n",
       "      <td>NaN</td>\n",
       "    </tr>\n",
       "    <tr>\n",
       "      <th>90345</th>\n",
       "      <td>AMERICAN CHAMPION AIRCRAFT</td>\n",
       "      <td>8GCBC</td>\n",
       "      <td>nan</td>\n",
       "      <td>1.0</td>\n",
       "      <td>Airplane</td>\n",
       "    </tr>\n",
       "    <tr>\n",
       "      <th>90346</th>\n",
       "      <td>CESSNA</td>\n",
       "      <td>210N</td>\n",
       "      <td>nan</td>\n",
       "      <td>NaN</td>\n",
       "      <td>NaN</td>\n",
       "    </tr>\n",
       "    <tr>\n",
       "      <th>90347</th>\n",
       "      <td>PIPER</td>\n",
       "      <td>PA-24-260</td>\n",
       "      <td>nan</td>\n",
       "      <td>NaN</td>\n",
       "      <td>NaN</td>\n",
       "    </tr>\n",
       "  </tbody>\n",
       "</table>\n",
       "<p>90348 rows × 5 columns</p>\n",
       "</div>"
      ],
      "text/plain": [
       "                             Make      Model    Engine.Type  \\\n",
       "0                         Stinson      108-3  reciprocating   \n",
       "1                           Piper   PA24-180  reciprocating   \n",
       "2                          Cessna       172M  reciprocating   \n",
       "3                        Rockwell        112  reciprocating   \n",
       "4                          Cessna        501            nan   \n",
       "...                           ...        ...            ...   \n",
       "90343                       PIPER  PA-28-151            nan   \n",
       "90344                    BELLANCA       7ECA            nan   \n",
       "90345  AMERICAN CHAMPION AIRCRAFT      8GCBC            nan   \n",
       "90346                      CESSNA       210N            nan   \n",
       "90347                       PIPER  PA-24-260            nan   \n",
       "\n",
       "       Number.of.Engines Aircraft.Category  \n",
       "0                    1.0          Airplane  \n",
       "1                    1.0          Airplane  \n",
       "2                    1.0          Airplane  \n",
       "3                    1.0          Airplane  \n",
       "4                    NaN               NaN  \n",
       "...                  ...               ...  \n",
       "90343                NaN               NaN  \n",
       "90344                NaN               NaN  \n",
       "90345                1.0          Airplane  \n",
       "90346                NaN               NaN  \n",
       "90347                NaN               NaN  \n",
       "\n",
       "[90348 rows x 5 columns]"
      ]
     },
     "execution_count": 26,
     "metadata": {},
     "output_type": "execute_result"
    }
   ],
   "source": [
    "new_air_cat = df[['Make', 'Model', 'Engine.Type', 'Number.of.Engines', 'Aircraft.Category']]\n",
    "new_air_cat"
   ]
  },
  {
   "cell_type": "code",
   "execution_count": 27,
   "id": "0e54d32e",
   "metadata": {},
   "outputs": [
    {
     "data": {
      "text/plain": [
       "Make\n",
       "Cessna                  215\n",
       "Boeing                  177\n",
       "BOEING                  106\n",
       "Piper                    99\n",
       "Bell                     52\n",
       "CESSNA                   52\n",
       "Robinson                 49\n",
       "Beech                    46\n",
       "Schweizer                33\n",
       "PIPER                    32\n",
       "Mcdonnell Douglas        26\n",
       "Airbus Industrie         23\n",
       "BEECH                    21\n",
       "Schleicher               20\n",
       "Aerostar                 16\n",
       "ROBINSON                 15\n",
       "Burkhart Grob            13\n",
       "Let                      13\n",
       "Hughes                   11\n",
       "AIRBUS                   11\n",
       "Schempp-hirth            11\n",
       "Sikorsky                 10\n",
       "BELL                     10\n",
       "Cameron Balloons          9\n",
       "SIKORSKY                  7\n",
       "AIR TRACTOR               7\n",
       "Airbus                    7\n",
       "British Aerospace         7\n",
       "DE HAVILLAND              6\n",
       "Gulfstream Aerospace      6\n",
       "Name: count, dtype: int64"
      ]
     },
     "execution_count": 27,
     "metadata": {},
     "output_type": "execute_result"
    }
   ],
   "source": [
    "#null aircraft categories that will be dropped\n",
    "missing_df = df[df['Aircraft.Category'].isna()]\n",
    "\n",
    "missing_df['Make'].value_counts().head(30)"
   ]
  },
  {
   "cell_type": "markdown",
   "id": "1fa7133f",
   "metadata": {},
   "source": [
    "#Aircraft Category was missing in 38% of records. Engine type rules filled ~95% with high confidence. Remaining low-information rows were labeled as Unknown"
   ]
  },
  {
   "cell_type": "code",
   "execution_count": 59,
   "id": "a7a4602f",
   "metadata": {},
   "outputs": [
    {
     "data": {
      "text/plain": [
       "0"
      ]
     },
     "execution_count": 59,
     "metadata": {},
     "output_type": "execute_result"
    }
   ],
   "source": [
    "df_cleaned = df.dropna(subset=['Aircraft.Category']).copy()\n",
    "df_cleaned['Aircraft.Category'].isna().sum()"
   ]
  },
  {
   "cell_type": "markdown",
   "id": "5683efd2",
   "metadata": {},
   "source": [
    "##git push \n"
   ]
  },
  {
   "cell_type": "code",
   "execution_count": 31,
   "id": "a83641b4",
   "metadata": {},
   "outputs": [
    {
     "data": {
      "text/html": [
       "<div>\n",
       "<style scoped>\n",
       "    .dataframe tbody tr th:only-of-type {\n",
       "        vertical-align: middle;\n",
       "    }\n",
       "\n",
       "    .dataframe tbody tr th {\n",
       "        vertical-align: top;\n",
       "    }\n",
       "\n",
       "    .dataframe thead th {\n",
       "        text-align: right;\n",
       "    }\n",
       "</style>\n",
       "<table border=\"1\" class=\"dataframe\">\n",
       "  <thead>\n",
       "    <tr style=\"text-align: right;\">\n",
       "      <th></th>\n",
       "      <th>Aircraft.Category</th>\n",
       "      <th>Injury.Severity</th>\n",
       "      <th>Aircraft.damage</th>\n",
       "      <th>Total.Casualties</th>\n",
       "    </tr>\n",
       "  </thead>\n",
       "  <tbody>\n",
       "    <tr>\n",
       "      <th>0</th>\n",
       "      <td>Airplane</td>\n",
       "      <td>Fatal(2)</td>\n",
       "      <td>Destroyed</td>\n",
       "      <td>2.0</td>\n",
       "    </tr>\n",
       "    <tr>\n",
       "      <th>1</th>\n",
       "      <td>Airplane</td>\n",
       "      <td>Fatal(4)</td>\n",
       "      <td>Destroyed</td>\n",
       "      <td>4.0</td>\n",
       "    </tr>\n",
       "    <tr>\n",
       "      <th>2</th>\n",
       "      <td>Airplane</td>\n",
       "      <td>Fatal(3)</td>\n",
       "      <td>Destroyed</td>\n",
       "      <td>3.0</td>\n",
       "    </tr>\n",
       "    <tr>\n",
       "      <th>3</th>\n",
       "      <td>Airplane</td>\n",
       "      <td>Fatal(2)</td>\n",
       "      <td>Destroyed</td>\n",
       "      <td>2.0</td>\n",
       "    </tr>\n",
       "    <tr>\n",
       "      <th>4</th>\n",
       "      <td>NaN</td>\n",
       "      <td>Fatal(1)</td>\n",
       "      <td>Destroyed</td>\n",
       "      <td>3.0</td>\n",
       "    </tr>\n",
       "    <tr>\n",
       "      <th>...</th>\n",
       "      <td>...</td>\n",
       "      <td>...</td>\n",
       "      <td>...</td>\n",
       "      <td>...</td>\n",
       "    </tr>\n",
       "    <tr>\n",
       "      <th>90343</th>\n",
       "      <td>NaN</td>\n",
       "      <td>Minor</td>\n",
       "      <td>NaN</td>\n",
       "      <td>1.0</td>\n",
       "    </tr>\n",
       "    <tr>\n",
       "      <th>90344</th>\n",
       "      <td>NaN</td>\n",
       "      <td>NaN</td>\n",
       "      <td>NaN</td>\n",
       "      <td>0.0</td>\n",
       "    </tr>\n",
       "    <tr>\n",
       "      <th>90345</th>\n",
       "      <td>Airplane</td>\n",
       "      <td>Non-Fatal</td>\n",
       "      <td>Substantial</td>\n",
       "      <td>1.0</td>\n",
       "    </tr>\n",
       "    <tr>\n",
       "      <th>90346</th>\n",
       "      <td>NaN</td>\n",
       "      <td>NaN</td>\n",
       "      <td>NaN</td>\n",
       "      <td>0.0</td>\n",
       "    </tr>\n",
       "    <tr>\n",
       "      <th>90347</th>\n",
       "      <td>NaN</td>\n",
       "      <td>Minor</td>\n",
       "      <td>NaN</td>\n",
       "      <td>2.0</td>\n",
       "    </tr>\n",
       "  </tbody>\n",
       "</table>\n",
       "<p>90348 rows × 4 columns</p>\n",
       "</div>"
      ],
      "text/plain": [
       "      Aircraft.Category Injury.Severity Aircraft.damage  Total.Casualties\n",
       "0              Airplane        Fatal(2)       Destroyed               2.0\n",
       "1              Airplane        Fatal(4)       Destroyed               4.0\n",
       "2              Airplane        Fatal(3)       Destroyed               3.0\n",
       "3              Airplane        Fatal(2)       Destroyed               2.0\n",
       "4                   NaN        Fatal(1)       Destroyed               3.0\n",
       "...                 ...             ...             ...               ...\n",
       "90343               NaN           Minor             NaN               1.0\n",
       "90344               NaN             NaN             NaN               0.0\n",
       "90345          Airplane       Non-Fatal     Substantial               1.0\n",
       "90346               NaN             NaN             NaN               0.0\n",
       "90347               NaN           Minor             NaN               2.0\n",
       "\n",
       "[90348 rows x 4 columns]"
      ]
     },
     "execution_count": 31,
     "metadata": {},
     "output_type": "execute_result"
    }
   ],
   "source": [
    "total_casualties = (\n",
    "    df['Total.Fatal.Injuries'].fillna(0) + ##fill null values with 0 to avoid getting NaN during addition\n",
    "    df['Total.Serious.Injuries'].fillna(0) +\n",
    "    df['Total.Minor.Injuries'].fillna(0) +\n",
    "    df['Total.Uninjured'].fillna(0)\n",
    ")\n",
    "df['Total.Casualties'] = total_casualties\n",
    "aircraft_accident_rates =df[['Aircraft.Category','Injury.Severity','Aircraft.damage', 'Total.Casualties']]\n",
    "aircraft_accident_rates"
   ]
  },
  {
   "cell_type": "code",
   "execution_count": 32,
   "id": "10380e72",
   "metadata": {},
   "outputs": [
    {
     "data": {
      "text/plain": [
       "count    90348.000000\n",
       "mean         5.987349\n",
       "std         27.630006\n",
       "min          0.000000\n",
       "25%          1.000000\n",
       "50%          2.000000\n",
       "75%          2.000000\n",
       "max        699.000000\n",
       "Name: Total.Casualties, dtype: float64"
      ]
     },
     "execution_count": 32,
     "metadata": {},
     "output_type": "execute_result"
    }
   ],
   "source": [
    "#evaluating total casualties \n",
    "total_casualty_csv = df['Total.Casualties'].to_csv('Casualties', index=False)\n",
    "df['Total.Casualties'].unique()\n",
    "df['Total.Casualties'].value_counts().sort_index()\n",
    "df['Total.Casualties'].describe()"
   ]
  },
  {
   "cell_type": "code",
   "execution_count": 33,
   "id": "eb0cc932",
   "metadata": {},
   "outputs": [
    {
     "data": {
      "text/plain": [
       "Aircraft.Category\n",
       "Helicopter    98.723107\n",
       "Airplane      98.806752\n",
       "Name: HasCasualties, dtype: float64"
      ]
     },
     "execution_count": 33,
     "metadata": {},
     "output_type": "execute_result"
    }
   ],
   "source": [
    "## evaluating all casualties per category\n",
    "df['HasCasualties'] = df['Total.Casualties'] > 0\n",
    "casualties_percentage = df.groupby('Aircraft.Category')['HasCasualties'].mean() * 100\n",
    "\n",
    "\n",
    "#max_casualties\n",
    "#avg_casualties \n",
    "#accidents_by_category\n",
    "\n",
    "helicopters_airplanes_casualties_percentage = casualties_percentage.loc[['Helicopter', 'Airplane']]\n",
    "helicopters_airplanes_casualties_percentage\n"
   ]
  },
  {
   "cell_type": "code",
   "execution_count": 34,
   "id": "4e9d8453",
   "metadata": {},
   "outputs": [
    {
     "data": {
      "text/plain": [
       "Aircraft.Category\n",
       "Helicopter    34.773483\n",
       "Airplane      26.985460\n",
       "Name: HasSevereCasualty, dtype: float64"
      ]
     },
     "execution_count": 34,
     "metadata": {},
     "output_type": "execute_result"
    }
   ],
   "source": [
    "##evaluate categories with severe and fatal injuries\n",
    "df['HasSevereCasualty'] = df['Total.Serious.Injuries'] + df['Total.Fatal.Injuries'] > 0\n",
    "severe_casualties_percentage = df.groupby('Aircraft.Category')['HasSevereCasualty'].mean() * 100\n",
    "severe_casualties_percentage\n",
    "helicopters_airplanes_severe_casualties_percentage = severe_casualties_percentage.loc[['Helicopter', 'Airplane']]\n",
    "helicopters_airplanes_severe_casualties_percentage"
   ]
  },
  {
   "cell_type": "code",
   "execution_count": 35,
   "id": "35459067",
   "metadata": {},
   "outputs": [
    {
     "data": {
      "image/png": "[encoded data removed]",
      "text/plain": [
       "<Figure size 800x500 with 1 Axes>"
      ]
     },
     "metadata": {},
     "output_type": "display_data"
    }
   ],
   "source": [
    "##plotting severe and fatal injuries in helicopters and airplanes\n",
    "import matplotlib.pyplot as plt\n",
    "\n",
    "helicopters_airplanes_severe_casualties_percentage.T.plot(kind='bar', figsize=(8,5))\n",
    "plt.title('Aircraft.damage: Helicopters vs Airplanes')\n",
    "plt.ylabel('Percentage (%)')\n",
    "plt.xlabel('Severity')\n",
    "plt.xticks(rotation=0)\n",
    "plt.legend(title='Aircraft Category')\n",
    "plt.show()"
   ]
  },
  {
   "cell_type": "code",
   "execution_count": 36,
   "id": "042f173d",
   "metadata": {},
   "outputs": [
    {
     "data": {
      "text/html": [
       "<div>\n",
       "<style scoped>\n",
       "    .dataframe tbody tr th:only-of-type {\n",
       "        vertical-align: middle;\n",
       "    }\n",
       "\n",
       "    .dataframe tbody tr th {\n",
       "        vertical-align: top;\n",
       "    }\n",
       "\n",
       "    .dataframe thead th {\n",
       "        text-align: right;\n",
       "    }\n",
       "</style>\n",
       "<table border=\"1\" class=\"dataframe\">\n",
       "  <thead>\n",
       "    <tr style=\"text-align: right;\">\n",
       "      <th></th>\n",
       "      <th>Aircraft.damage</th>\n",
       "      <th>Destroyed</th>\n",
       "      <th>Minor</th>\n",
       "      <th>Substantial</th>\n",
       "      <th>Unknown</th>\n",
       "    </tr>\n",
       "    <tr>\n",
       "      <th>Aircraft.Category</th>\n",
       "      <th>Aircraft.Category</th>\n",
       "      <th></th>\n",
       "      <th></th>\n",
       "      <th></th>\n",
       "      <th></th>\n",
       "    </tr>\n",
       "  </thead>\n",
       "  <tbody>\n",
       "    <tr>\n",
       "      <th>Helicopter</th>\n",
       "      <th>Helicopter</th>\n",
       "      <td>22.098854</td>\n",
       "      <td>1.987822</td>\n",
       "      <td>75.644699</td>\n",
       "      <td>0.268625</td>\n",
       "    </tr>\n",
       "    <tr>\n",
       "      <th>Airplane</th>\n",
       "      <th>Airplane</th>\n",
       "      <td>21.430351</td>\n",
       "      <td>3.121599</td>\n",
       "      <td>75.316945</td>\n",
       "      <td>0.131105</td>\n",
       "    </tr>\n",
       "  </tbody>\n",
       "</table>\n",
       "</div>"
      ],
      "text/plain": [
       "Aircraft.damage                      Destroyed     Minor  Substantial  \\\n",
       "Aircraft.Category Aircraft.Category                                     \n",
       "Helicopter        Helicopter         22.098854  1.987822    75.644699   \n",
       "Airplane          Airplane           21.430351  3.121599    75.316945   \n",
       "\n",
       "Aircraft.damage                       Unknown  \n",
       "Aircraft.Category Aircraft.Category            \n",
       "Helicopter        Helicopter         0.268625  \n",
       "Airplane          Airplane           0.131105  "
      ]
     },
     "execution_count": 36,
     "metadata": {},
     "output_type": "execute_result"
    }
   ],
   "source": [
    "damage_dist = aircraft_accident_rates.groupby(['Aircraft.Category', 'Aircraft.damage']).size().unstack(fill_value=0)\n",
    "damage_dist_percentage = aircraft_accident_rates.groupby(['Aircraft.Category', 'Aircraft.damage']).size().groupby(level=0).apply(lambda x: (x /x.sum())*100).unstack(fill_value=0)\n",
    "damage_dist_percentage \n",
    "helicopters_airplanes_damage_dist = damage_dist_percentage.loc[['Helicopter', 'Airplane']]\n",
    "helicopters_airplanes_damage_dist"
   ]
  },
  {
   "cell_type": "code",
   "execution_count": 37,
   "id": "5bc54593",
   "metadata": {},
   "outputs": [
    {
     "data": {
      "image/png": "[encoded data removed]",
      "text/plain": [
       "<Figure size 800x500 with 1 Axes>"
      ]
     },
     "metadata": {},
     "output_type": "display_data"
    }
   ],
   "source": [
    "import matplotlib.pyplot as plt\n",
    "\n",
    "helicopters_airplanes_damage_dist.T.plot(kind='bar', figsize=(8,5))\n",
    "plt.title('Aircraft.damage: Helicopters vs Airplanes')\n",
    "plt.ylabel('Percentage (%)')\n",
    "plt.xlabel('Damage group')\n",
    "plt.xticks(rotation=0)\n",
    "plt.legend(title='Aircraft Category')\n",
    "plt.show()"
   ]
  },
  {
   "cell_type": "code",
   "execution_count": 38,
   "id": "180de394",
   "metadata": {},
   "outputs": [
    {
     "name": "stderr",
     "output_type": "stream",
     "text": [
      "/var/folders/22/sgmzcv3j7nz5t7bc1byt1xlh0000gn/T/ipykernel_2051/2246967814.py:12: SettingWithCopyWarning: \n",
      "A value is trying to be set on a copy of a slice from a DataFrame.\n",
      "Try using .loc[row_indexer,col_indexer] = value instead\n",
      "\n",
      "See the caveats in the documentation: https://pandas.pydata.org/pandas-docs/stable/user_guide/indexing.html#returning-a-view-versus-a-copy\n",
      "  aircraft_accident_rates['Severity_Group'] = aircraft_accident_rates['Injury.Severity'].apply(simplify_injury)\n"
     ]
    }
   ],
   "source": [
    "##injury severity is has too many categories hence th need to group them into smaller workable categories\n",
    "def simplify_injury(severity):\n",
    "    if isinstance(severity, str) and severity.startswith('Fatal'):\n",
    "        return 'Fatal'\n",
    "    elif severity == 'Non-Fatal':\n",
    "        return 'Non-Fatal'\n",
    "    elif severity == 'Incident':\n",
    "        return 'Incident'\n",
    "    else:\n",
    "        return 'Unknown'\n",
    "\n",
    "aircraft_accident_rates['Severity_Group'] = aircraft_accident_rates['Injury.Severity'].apply(simplify_injury)"
   ]
  },
  {
   "cell_type": "code",
   "execution_count": 39,
   "id": "679d1e16",
   "metadata": {},
   "outputs": [
    {
     "data": {
      "text/html": [
       "<div>\n",
       "<style scoped>\n",
       "    .dataframe tbody tr th:only-of-type {\n",
       "        vertical-align: middle;\n",
       "    }\n",
       "\n",
       "    .dataframe tbody tr th {\n",
       "        vertical-align: top;\n",
       "    }\n",
       "\n",
       "    .dataframe thead th {\n",
       "        text-align: right;\n",
       "    }\n",
       "</style>\n",
       "<table border=\"1\" class=\"dataframe\">\n",
       "  <thead>\n",
       "    <tr style=\"text-align: right;\">\n",
       "      <th></th>\n",
       "      <th>Severity_Group</th>\n",
       "      <th>Fatal</th>\n",
       "      <th>Incident</th>\n",
       "      <th>Non-Fatal</th>\n",
       "      <th>Unknown</th>\n",
       "    </tr>\n",
       "    <tr>\n",
       "      <th>Aircraft.Category</th>\n",
       "      <th>Aircraft.Category</th>\n",
       "      <th></th>\n",
       "      <th></th>\n",
       "      <th></th>\n",
       "      <th></th>\n",
       "    </tr>\n",
       "  </thead>\n",
       "  <tbody>\n",
       "    <tr>\n",
       "      <th>Helicopter</th>\n",
       "      <th>Helicopter</th>\n",
       "      <td>22.599265</td>\n",
       "      <td>1.311877</td>\n",
       "      <td>73.867413</td>\n",
       "      <td>2.221445</td>\n",
       "    </tr>\n",
       "    <tr>\n",
       "      <th>Airplane</th>\n",
       "      <th>Airplane</th>\n",
       "      <td>19.511761</td>\n",
       "      <td>2.377590</td>\n",
       "      <td>76.664250</td>\n",
       "      <td>1.446399</td>\n",
       "    </tr>\n",
       "  </tbody>\n",
       "</table>\n",
       "</div>"
      ],
      "text/plain": [
       "Severity_Group                           Fatal  Incident  Non-Fatal   Unknown\n",
       "Aircraft.Category Aircraft.Category                                          \n",
       "Helicopter        Helicopter         22.599265  1.311877  73.867413  2.221445\n",
       "Airplane          Airplane           19.511761  2.377590  76.664250  1.446399"
      ]
     },
     "execution_count": 39,
     "metadata": {},
     "output_type": "execute_result"
    }
   ],
   "source": [
    "#shows percentages and converts helicopters and airplanes into 2 categories\n",
    "severity_group_counts = aircraft_accident_rates.groupby(['Aircraft.Category', 'Severity_Group']).size().unstack(fill_value=0)\n",
    "severity_group_percentage = aircraft_accident_rates.groupby(['Aircraft.Category', 'Severity_Group']).size() \\\n",
    "    .groupby(level=0).apply(lambda x: (x / x.sum())*100).unstack(fill_value=0)\n",
    "\n",
    "# Filter for Helicopters and Airplanes\n",
    "severity_dist_helicopters_airplanes = severity_group_percentage.loc[['Helicopter', 'Airplane']]\n",
    "severity_dist_helicopters_airplanes"
   ]
  },
  {
   "cell_type": "code",
   "execution_count": 40,
   "id": "da412338",
   "metadata": {},
   "outputs": [
    {
     "data": {
      "image/png": "[encoded data removed]",
      "text/plain": [
       "<Figure size 800x500 with 1 Axes>"
      ]
     },
     "metadata": {},
     "output_type": "display_data"
    }
   ],
   "source": [
    "##plotting percentages of injury severity per group\n",
    "import matplotlib.pyplot as plt\n",
    "\n",
    "severity_dist_helicopters_airplanes.T.plot(kind='bar', figsize=(8,5))\n",
    "plt.title('Injury Severity: Helicopters vs Airplanes')\n",
    "plt.ylabel('Percentage (%)')\n",
    "plt.xlabel('Severity Group')\n",
    "plt.xticks(rotation=0)\n",
    "plt.legend(title='Aircraft Category')\n",
    "plt.show()"
   ]
  },
  {
   "cell_type": "code",
   "execution_count": 41,
   "id": "cd2d35cb",
   "metadata": {},
   "outputs": [
    {
     "data": {
      "text/plain": [
       "<pandas.core.groupby.generic.DataFrameGroupBy object at 0x17ea51cd0>"
      ]
     },
     "execution_count": 41,
     "metadata": {},
     "output_type": "execute_result"
    }
   ],
   "source": [
    "\n",
    "flight_purpose = ['Purpose.of.flight', 'Schedule', 'Investigation.Type']\n",
    "flight_purpose = df[flight_purpose]\n",
    "flight_purpose.head()\n",
    "\n",
    "flight_purpose.groupby('Purpose.of.flight')"
   ]
  },
  {
   "cell_type": "code",
   "execution_count": 42,
   "id": "7c3e264f",
   "metadata": {},
   "outputs": [
    {
     "name": "stderr",
     "output_type": "stream",
     "text": [
      "/var/folders/22/sgmzcv3j7nz5t7bc1byt1xlh0000gn/T/ipykernel_2051/547504060.py:15: SettingWithCopyWarning: \n",
      "A value is trying to be set on a copy of a slice from a DataFrame.\n",
      "Try using .loc[row_indexer,col_indexer] = value instead\n",
      "\n",
      "See the caveats in the documentation: https://pandas.pydata.org/pandas-docs/stable/user_guide/indexing.html#returning-a-view-versus-a-copy\n",
      "  flight_purpose['Flight.Use.Type'] = flight_purpose['Purpose.of.flight'].apply(\n"
     ]
    }
   ],
   "source": [
    "commercial_categories = [\n",
    "    'Business', 'Executive/corporate', 'Aerial Application', 'Aerial Observation',\n",
    "    'Public Aircraft', 'Public Aircraft - Federal', 'Public Aircraft - State',\n",
    "    'Public Aircraft - Local', 'Other Work Use', 'Positioning', 'Ferry',\n",
    "    'External Load', 'Firefighting', 'Banner Tow', 'Skydiving', 'Glider Tow',\n",
    "    'Air Race/show', 'Air Race show', 'Flight Test', 'Air Drop',\n",
    "    'PUBS', 'PUBL', 'ASHO'\n",
    "]\n",
    "\n",
    "private_categories = [\n",
    "    'Personal', 'Instructional'\n",
    "]\n",
    "\n",
    "# Create new classification column\n",
    "flight_purpose['Flight.Use.Type'] = flight_purpose['Purpose.of.flight'].apply(\n",
    "    lambda x: 'Commercial' if x in commercial_categories\n",
    "    else 'Private' if x in private_categories\n",
    "    else 'Unknown'\n",
    ")"
   ]
  },
  {
   "cell_type": "code",
   "execution_count": 43,
   "id": "dd71daff",
   "metadata": {},
   "outputs": [
    {
     "data": {
      "text/plain": [
       "Flight.Use.Type\n",
       "Private       60049\n",
       "Commercial    15846\n",
       "Unknown       14453\n",
       "Name: count, dtype: int64"
      ]
     },
     "execution_count": 43,
     "metadata": {},
     "output_type": "execute_result"
    }
   ],
   "source": [
    "flight_purpose['Flight.Use.Type'].value_counts()"
   ]
  },
  {
   "cell_type": "code",
   "execution_count": 44,
   "id": "208cf336",
   "metadata": {},
   "outputs": [
    {
     "name": "stdout",
     "output_type": "stream",
     "text": [
      "Investigation.Type  01-06-2021  01-07-2022  01-09-2022  01-11-2022  \\\n",
      "Flight.Use.Type                                                      \n",
      "Commercial                   0           0           0           0   \n",
      "Private                      0           0           0           0   \n",
      "Unknown                      7          14          10          14   \n",
      "\n",
      "Investigation.Type  02-02-2021  02-12-2022  03-06-2021  03-11-2020  \\\n",
      "Flight.Use.Type                                                      \n",
      "Commercial                   0           0           0           0   \n",
      "Private                      0           0           0           0   \n",
      "Unknown                     39           8           2           1   \n",
      "\n",
      "Investigation.Type  03-11-2022  03-12-2020  ...  26-08-2021  26-09-2020  \\\n",
      "Flight.Use.Type                             ...                           \n",
      "Commercial                   0           0  ...           0           0   \n",
      "Private                      0           0  ...           0           0   \n",
      "Unknown                      4          29  ...          13          60   \n",
      "\n",
      "Investigation.Type  27-05-2021  28-01-2021  29-01-2021  29-09-2021  \\\n",
      "Flight.Use.Type                                                      \n",
      "Commercial                   0           0           0           0   \n",
      "Private                      0           0           0           0   \n",
      "Unknown                     18          18           8           8   \n",
      "\n",
      "Investigation.Type  31-03-2021  31-08-2021  Accident  Incident  \n",
      "Flight.Use.Type                                                 \n",
      "Commercial                   0           0     15489       357  \n",
      "Private                      0           0     59656       393  \n",
      "Unknown                      1           7      9870      3124  \n",
      "\n",
      "[3 rows x 71 columns]\n"
     ]
    }
   ],
   "source": [
    "flight_investigations = pd.crosstab(flight_purpose['Flight.Use.Type'], flight_purpose['Investigation.Type'])\n",
    "print(flight_investigations)"
   ]
  },
  {
   "cell_type": "code",
   "execution_count": 45,
   "id": "e25c4082",
   "metadata": {},
   "outputs": [
    {
     "name": "stdout",
     "output_type": "stream",
     "text": [
      "Investigation.Type  Accident  Incident\n",
      "Flight.Use.Type                       \n",
      "Commercial             15489       357\n",
      "Private                59656       393\n",
      "Unknown                 9870      3124\n"
     ]
    }
   ],
   "source": [
    "# Keep only Accident and Incident columns\n",
    "flight_investigations_clean = flight_investigations[['Accident', 'Incident']]\n",
    "print(flight_investigations_clean)"
   ]
  },
  {
   "cell_type": "code",
   "execution_count": 46,
   "id": "13b66dde",
   "metadata": {},
   "outputs": [
    {
     "name": "stdout",
     "output_type": "stream",
     "text": [
      "Investigation.Type   Accident   Incident\n",
      "Flight.Use.Type                         \n",
      "Commercial          97.747066   2.252934\n",
      "Private             99.345534   0.654466\n",
      "Unknown             75.958135  24.041865\n"
     ]
    }
   ],
   "source": [
    "# calculate row totals\n",
    "row_totals = flight_investigations_clean.sum(axis=1)\n",
    "\n",
    "# calculate percentages within each flight type\n",
    "percent_within_type = flight_investigations_clean.div(row_totals, axis=0) * 100\n",
    "\n",
    "print(percent_within_type)\n",
    "#ca"
   ]
  },
  {
   "cell_type": "code",
   "execution_count": 47,
   "id": "ecee576c",
   "metadata": {},
   "outputs": [
    {
     "name": "stdout",
     "output_type": "stream",
     "text": [
      "Flight.Use.Type\n",
      "Commercial    18.219138\n",
      "Private       70.171146\n",
      "Unknown       11.609716\n",
      "Name: Accident, dtype: float64\n"
     ]
    }
   ],
   "source": [
    "# Total accidents across all flight types\n",
    "total_accidents = flight_investigations_clean['Accident'].sum()\n",
    "\n",
    "# percentage of total accidents by flight type\n",
    "percent_of_total_accidents = (flight_investigations_clean['Accident'] / total_accidents) * 100\n",
    "\n",
    "print(percent_of_total_accidents)"
   ]
  },
  {
   "cell_type": "code",
   "execution_count": 48,
   "id": "dfc58339",
   "metadata": {},
   "outputs": [
    {
     "name": "stderr",
     "output_type": "stream",
     "text": [
      "/var/folders/22/sgmzcv3j7nz5t7bc1byt1xlh0000gn/T/ipykernel_2051/608664581.py:1: SettingWithCopyWarning: \n",
      "A value is trying to be set on a copy of a slice from a DataFrame.\n",
      "Try using .loc[row_indexer,col_indexer] = value instead\n",
      "\n",
      "See the caveats in the documentation: https://pandas.pydata.org/pandas-docs/stable/user_guide/indexing.html#returning-a-view-versus-a-copy\n",
      "  flight_purpose['Schedule.Type'] = flight_purpose['Schedule'].apply(\n"
     ]
    }
   ],
   "source": [
    "flight_purpose['Schedule.Type'] = flight_purpose['Schedule'].apply(\n",
    "    lambda x: 'Scheduled' if x == 'SCHD' \n",
    "    else 'Non-Scheduled' if x == 'NSCH'\n",
    "    else 'Unknown'\n",
    ")"
   ]
  },
  {
   "cell_type": "code",
   "execution_count": 49,
   "id": "abd64602",
   "metadata": {},
   "outputs": [
    {
     "data": {
      "text/plain": [
       "Schedule.Type\n",
       "Unknown          81865\n",
       "Non-Scheduled     4474\n",
       "Scheduled         4009\n",
       "Name: count, dtype: int64"
      ]
     },
     "execution_count": 49,
     "metadata": {},
     "output_type": "execute_result"
    }
   ],
   "source": [
    "flight_purpose['Schedule.Type'].value_counts()\n",
    "\n",
    "##Most of the flights don’t have schedule information recorded (Unknown = 81,865)."
   ]
  },
  {
   "cell_type": "markdown",
   "id": "9a30f1a3",
   "metadata": {},
   "source": [
    "Weather conditions\n",
    "VMC - Good visual conditions\n",
    "IMC - Instrument-only conditions (poor visibility)\n",
    "UNK -  not recorded\n",
    "\n",
    "\n"
   ]
  },
  {
   "cell_type": "code",
   "execution_count": 50,
   "id": "d6b8a355",
   "metadata": {},
   "outputs": [
    {
     "name": "stdout",
     "output_type": "stream",
     "text": [
      "Weather.Condition   IMC  UNK  Unk    VMC\n",
      "Aircraft.Category                       \n",
      "Airplane           5519  663  222  69078\n",
      "Helicopter          279   42   37   4790\n"
     ]
    }
   ],
   "source": [
    "weather_flight_phase = ['Aircraft.Category','Weather.Condition', 'Broad.phase.of.flight']\n",
    "weather_flight_phase = df[weather_flight_phase]\n",
    "weather_flight_phase_categories = weather_flight_phase.groupby('Aircraft.Category')\n",
    "\n",
    "filtered_df = weather_flight_phase[weather_flight_phase['Aircraft.Category'].isin(['Airplane', 'Helicopter'])]\n",
    "\n",
    "\n",
    "df['Weather.Condition'] = df['Weather.Condition'].str.upper()  # Converts 'Unk' -> 'UNK'\n",
    "df['Weather.Condition'] = df['Weather.Condition'].fillna('UNKNOWN')\n",
    "\n",
    "#Use crosstab to get counts of weather conditions for each aircraft category - counts occurences of categorical variables\n",
    "weather_counts_table = pd.crosstab(filtered_df['Aircraft.Category'], filtered_df['Weather.Condition'])\n",
    "\n",
    "print(weather_counts_table)"
   ]
  },
  {
   "cell_type": "code",
   "execution_count": 51,
   "id": "309e83e2",
   "metadata": {},
   "outputs": [
    {
     "name": "stdout",
     "output_type": "stream",
     "text": [
      "                 IMC       UNK    UNKNOWN        VMC\n",
      "Airplane    5.101930  1.397690  11.054785  82.445595\n",
      "Helicopter  3.284884  1.424419  16.366279  78.924419\n"
     ]
    }
   ],
   "source": [
    "#accidents per weather conditions percentages\n",
    "weather_counts_table = pd.DataFrame({\n",
    "    'IMC': [1409, 113],\n",
    "    'UNK': [386, 49],\n",
    "    'UNKNOWN': [3053, 563],\n",
    "    'VMC': [22769, 2715]\n",
    "}, index=['Airplane', 'Helicopter'])\n",
    "\n",
    "weather_counts_percent = weather_counts_table.div(weather_counts_table.sum(axis=1), axis=0) * 100\n",
    "\n",
    "print(weather_counts_percent)"
   ]
  },
  {
   "cell_type": "code",
   "execution_count": null,
   "id": "44f7e90a",
   "metadata": {},
   "outputs": [
    {
     "data": {
      "text/plain": [
       "array(['Cruise', 'Unknown', 'Approach', 'Climb', 'Takeoff', 'Landing',\n",
       "       'Taxi', 'Descent', 'Maneuvering', 'Standing', 'Go-around', 'Other',\n",
       "       nan], dtype=object)"
      ]
     },
     "execution_count": 56,
     "metadata": {},
     "output_type": "execute_result"
    }
   ],
   "source": [
    "accidents_phase = df['Broad.phase.of.flight', ]"
   ]
  },
  {
   "cell_type": "code",
   "execution_count": 54,
   "id": "27f23da7",
   "metadata": {},
   "outputs": [
    {
     "data": {
      "text/plain": [
       "Index(['AIDS Report Number', 'Local Event Date', 'Event City', 'Event State',\n",
       "       'Event Airport', 'Event Type', 'Aircraft Damage', 'Flight Phase',\n",
       "       'Aircraft Make', 'Aircraft Model', 'Aircraft Series', 'Operator',\n",
       "       'Primary Flight Type', 'Flight Conduct Code', 'Flight Plan Filed Code',\n",
       "       'Aircraft Registration Nbr', 'Total Fatalities', 'Total Injuries',\n",
       "       'Aircraft Engine Make', 'Aircraft Engine Model', 'Engine Group Code',\n",
       "       'Nbr of Engines', 'PIC Certificate Type', 'PIC Flight Time Total Hrs',\n",
       "       'PIC Flight Time Total Make-Model', ' ', ' .1'],\n",
       "      dtype='object')"
      ]
     },
     "execution_count": 54,
     "metadata": {},
     "output_type": "execute_result"
    }
   ],
   "source": [
    "dp.columns"
   ]
  },
  {
   "cell_type": "code",
   "execution_count": null,
   "id": "7879ba19",
   "metadata": {},
   "outputs": [],
   "source": []
  }
 ],
 "metadata": {
  "kernelspec": {
   "display_name": "Python (test-env)",
   "language": "python",
   "name": "learn-env"
  },
  "language_info": {
   "codemirror_mode": {
    "name": "ipython",
    "version": 3
   },
   "file_extension": ".py",
   "mimetype": "text/x-python",
   "name": "python",
   "nbconvert_exporter": "python",
   "pygments_lexer": "ipython3",
   "version": "3.11.7"
  }
 },
 "nbformat": 4,
 "nbformat_minor": 5
}
