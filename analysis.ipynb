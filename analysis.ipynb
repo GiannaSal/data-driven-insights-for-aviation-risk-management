{
 "cells": [
  {
   "cell_type": "code",
   "execution_count": 8,
   "id": "95087247",
   "metadata": {},
   "outputs": [],
   "source": [
    "import pandas as pd\n",
    "df = pd.read_csv('data/Aviation_Data.csv', low_memory=False)\n"
   ]
  },
  {
   "cell_type": "markdown",
   "id": "4c121e29",
   "metadata": {},
   "source": [
    "UNDERSTANDING THE DATASET USING PANDAS\n"
   ]
  },
  {
   "cell_type": "code",
   "execution_count": 9,
   "id": "11305e87-68ba-4a3a-9622-226f88e1406e",
   "metadata": {},
   "outputs": [
    {
     "data": {
      "text/plain": [
       "'/Users/gianna/Documents/Flatiron/data-driven-insights-for-aviation-risk-management'"
      ]
     },
     "execution_count": 9,
     "metadata": {},
     "output_type": "execute_result"
    }
   ],
   "source": [
    "import os\n",
    "os.getcwd()"
   ]
  },
  {
   "cell_type": "code",
   "execution_count": 10,
   "id": "479b8565-09f6-4f84-8953-33fe6f71bea6",
   "metadata": {},
   "outputs": [
    {
     "data": {
      "text/plain": [
       "['Weather conditions influence on accidents.csv',\n",
       " 'dashboard.png',\n",
       " '.DS_Store',\n",
       " 'Casualties',\n",
       " 'anaconda_projects',\n",
       " 'aircraft_damage_severity_percentage.csv',\n",
       " 'README.md',\n",
       " '.gitignore',\n",
       " '.ipynb_checkpoints',\n",
       " '.git',\n",
       " 'data',\n",
       " 'analysis.ipynb',\n",
       " 'injury_severity_and_casualties.csv']"
      ]
     },
     "execution_count": 10,
     "metadata": {},
     "output_type": "execute_result"
    }
   ],
   "source": [
    "import os\n",
    "os.listdir()"
   ]
  },
  {
   "cell_type": "code",
   "execution_count": 11,
   "id": "7c4655d1-ac93-4e6f-be0b-5725e8e0f7bb",
   "metadata": {},
   "outputs": [
    {
     "data": {
      "text/plain": [
       "['Weather conditions influence on accidents.csv',\n",
       " 'aircraft_accident_rates_final.csv',\n",
       " '.DS_Store',\n",
       " 'aircraft_damage_severity_percentage.csv',\n",
       " 'aircraft_damage_severity_counts.csv',\n",
       " 'Aviation_Data.csv',\n",
       " 'injury_severity_and_casualties.csv']"
      ]
     },
     "execution_count": 11,
     "metadata": {},
     "output_type": "execute_result"
    }
   ],
   "source": [
    "os.listdir('data')"
   ]
  },
  {
   "cell_type": "code",
   "execution_count": 12,
   "id": "17b15b48",
   "metadata": {},
   "outputs": [
    {
     "data": {
      "text/html": [
       "<div>\n",
       "<style scoped>\n",
       "    .dataframe tbody tr th:only-of-type {\n",
       "        vertical-align: middle;\n",
       "    }\n",
       "\n",
       "    .dataframe tbody tr th {\n",
       "        vertical-align: top;\n",
       "    }\n",
       "\n",
       "    .dataframe thead th {\n",
       "        text-align: right;\n",
       "    }\n",
       "</style>\n",
       "<table border=\"1\" class=\"dataframe\">\n",
       "  <thead>\n",
       "    <tr style=\"text-align: right;\">\n",
       "      <th></th>\n",
       "      <th>Number.of.Engines</th>\n",
       "      <th>Total.Fatal.Injuries</th>\n",
       "      <th>Total.Serious.Injuries</th>\n",
       "      <th>Total.Minor.Injuries</th>\n",
       "      <th>Total.Uninjured</th>\n",
       "    </tr>\n",
       "  </thead>\n",
       "  <tbody>\n",
       "    <tr>\n",
       "      <th>count</th>\n",
       "      <td>82805.000000</td>\n",
       "      <td>77488.000000</td>\n",
       "      <td>76379.000000</td>\n",
       "      <td>76956.000000</td>\n",
       "      <td>82977.000000</td>\n",
       "    </tr>\n",
       "    <tr>\n",
       "      <th>mean</th>\n",
       "      <td>1.146585</td>\n",
       "      <td>0.647855</td>\n",
       "      <td>0.279881</td>\n",
       "      <td>0.357061</td>\n",
       "      <td>5.325440</td>\n",
       "    </tr>\n",
       "    <tr>\n",
       "      <th>std</th>\n",
       "      <td>0.446510</td>\n",
       "      <td>5.485960</td>\n",
       "      <td>1.544084</td>\n",
       "      <td>2.235625</td>\n",
       "      <td>27.913634</td>\n",
       "    </tr>\n",
       "    <tr>\n",
       "      <th>min</th>\n",
       "      <td>0.000000</td>\n",
       "      <td>0.000000</td>\n",
       "      <td>0.000000</td>\n",
       "      <td>0.000000</td>\n",
       "      <td>0.000000</td>\n",
       "    </tr>\n",
       "    <tr>\n",
       "      <th>25%</th>\n",
       "      <td>1.000000</td>\n",
       "      <td>0.000000</td>\n",
       "      <td>0.000000</td>\n",
       "      <td>0.000000</td>\n",
       "      <td>0.000000</td>\n",
       "    </tr>\n",
       "    <tr>\n",
       "      <th>50%</th>\n",
       "      <td>1.000000</td>\n",
       "      <td>0.000000</td>\n",
       "      <td>0.000000</td>\n",
       "      <td>0.000000</td>\n",
       "      <td>1.000000</td>\n",
       "    </tr>\n",
       "    <tr>\n",
       "      <th>75%</th>\n",
       "      <td>1.000000</td>\n",
       "      <td>0.000000</td>\n",
       "      <td>0.000000</td>\n",
       "      <td>0.000000</td>\n",
       "      <td>2.000000</td>\n",
       "    </tr>\n",
       "    <tr>\n",
       "      <th>max</th>\n",
       "      <td>8.000000</td>\n",
       "      <td>349.000000</td>\n",
       "      <td>161.000000</td>\n",
       "      <td>380.000000</td>\n",
       "      <td>699.000000</td>\n",
       "    </tr>\n",
       "  </tbody>\n",
       "</table>\n",
       "</div>"
      ],
      "text/plain": [
       "       Number.of.Engines  Total.Fatal.Injuries  Total.Serious.Injuries  \\\n",
       "count       82805.000000          77488.000000            76379.000000   \n",
       "mean            1.146585              0.647855                0.279881   \n",
       "std             0.446510              5.485960                1.544084   \n",
       "min             0.000000              0.000000                0.000000   \n",
       "25%             1.000000              0.000000                0.000000   \n",
       "50%             1.000000              0.000000                0.000000   \n",
       "75%             1.000000              0.000000                0.000000   \n",
       "max             8.000000            349.000000              161.000000   \n",
       "\n",
       "       Total.Minor.Injuries  Total.Uninjured  \n",
       "count          76956.000000     82977.000000  \n",
       "mean               0.357061         5.325440  \n",
       "std                2.235625        27.913634  \n",
       "min                0.000000         0.000000  \n",
       "25%                0.000000         0.000000  \n",
       "50%                0.000000         1.000000  \n",
       "75%                0.000000         2.000000  \n",
       "max              380.000000       699.000000  "
      ]
     },
     "execution_count": 12,
     "metadata": {},
     "output_type": "execute_result"
    }
   ],
   "source": [
    "df.describe()"
   ]
  },
  {
   "cell_type": "code",
   "execution_count": 13,
   "id": "70845134",
   "metadata": {},
   "outputs": [
    {
     "data": {
      "text/plain": [
       "Event.Id                   1459\n",
       "Investigation.Type            0\n",
       "Accident.Number            1459\n",
       "Event.Date                 1459\n",
       "Location                   1511\n",
       "Country                    1685\n",
       "Latitude                  55966\n",
       "Longitude                 55975\n",
       "Airport.Code              40216\n",
       "Airport.Name              37644\n",
       "Injury.Severity            2459\n",
       "Aircraft.damage            4653\n",
       "Aircraft.Category         58061\n",
       "Registration.Number        2841\n",
       "Make                       1522\n",
       "Model                      1551\n",
       "Amateur.Built              1561\n",
       "Number.of.Engines          7543\n",
       "Engine.Type                8555\n",
       "FAR.Description           58325\n",
       "Schedule                  77766\n",
       "Purpose.of.flight          7651\n",
       "Air.carrier               73700\n",
       "Total.Fatal.Injuries      12860\n",
       "Total.Serious.Injuries    13969\n",
       "Total.Minor.Injuries      13392\n",
       "Total.Uninjured            7371\n",
       "Weather.Condition          5951\n",
       "Broad.phase.of.flight     28624\n",
       "Report.Status              7843\n",
       "Publication.Date          16689\n",
       "dtype: int64"
      ]
     },
     "execution_count": 13,
     "metadata": {},
     "output_type": "execute_result"
    }
   ],
   "source": [
    "df.isnull().sum()"
   ]
  },
  {
   "cell_type": "code",
   "execution_count": 14,
   "id": "93f68758",
   "metadata": {},
   "outputs": [
    {
     "data": {
      "text/plain": [
       "Event.Id                  88889\n",
       "Investigation.Type        90348\n",
       "Accident.Number           88889\n",
       "Event.Date                88889\n",
       "Location                  88837\n",
       "Country                   88663\n",
       "Latitude                  34382\n",
       "Longitude                 34373\n",
       "Airport.Code              50132\n",
       "Airport.Name              52704\n",
       "Injury.Severity           87889\n",
       "Aircraft.damage           85695\n",
       "Aircraft.Category         32287\n",
       "Registration.Number       87507\n",
       "Make                      88826\n",
       "Model                     88797\n",
       "Amateur.Built             88787\n",
       "Number.of.Engines         82805\n",
       "Engine.Type               81793\n",
       "FAR.Description           32023\n",
       "Schedule                  12582\n",
       "Purpose.of.flight         82697\n",
       "Air.carrier               16648\n",
       "Total.Fatal.Injuries      77488\n",
       "Total.Serious.Injuries    76379\n",
       "Total.Minor.Injuries      76956\n",
       "Total.Uninjured           82977\n",
       "Weather.Condition         84397\n",
       "Broad.phase.of.flight     61724\n",
       "Report.Status             82505\n",
       "Publication.Date          73659\n",
       "dtype: int64"
      ]
     },
     "execution_count": 14,
     "metadata": {},
     "output_type": "execute_result"
    }
   ],
   "source": [
    "df.notna().sum()"
   ]
  },
  {
   "cell_type": "markdown",
   "id": "f6761833",
   "metadata": {},
   "source": [
    "THREE INSIGHTS:\n",
    "-----AIRCRAFT WITH LOWEST ACCIDENT SEVERITY RATES -- (alr)\n",
    "-----OPERATIONAL SAFETY STRATEGY OF AIRCRAFTS - MOST AND LEAST ACCIDENTS IN SPECIFIC WEATHER- PATTERN BTWN ACCIDENTS AND AIRCRAFT\n",
    "-----PURPOSE OF FLIGHT - CARGO , PERSONAL ETC"
   ]
  },
  {
   "cell_type": "markdown",
   "id": "efbb9048",
   "metadata": {},
   "source": [
    "THE CELL BELOW IS A VARIABLE CREATED IN ORDER TO GIVE INSIGHTS ON ACCIDENT RATES FOR AIRCRAFTS"
   ]
  },
  {
   "cell_type": "code",
   "execution_count": 15,
   "id": "fa3816d4",
   "metadata": {},
   "outputs": [],
   "source": [
    "##AIRCRAFT WITH LOWEST ACCIDENT SEVERITY RATES\n",
    "low_accident_rate = ['Make', 'Model', 'Engine.Type', 'Number.of.Engines',\n",
    " 'Injury.Severity', 'Aircraft.damage', \n",
    " 'Investigation.Type', 'Aircraft.Category','Total.Fatal.Injuries', 'Total.Serious.Injuries',\n",
    "    'Total.Minor.Injuries', 'Total.Uninjured', 'Report.Status']\n",
    "low_accident_rates = df[low_accident_rate]"
   ]
  },
  {
   "cell_type": "code",
   "execution_count": null,
   "id": "49eae51a",
   "metadata": {},
   "outputs": [],
   "source": [
    "df['Investigation.Type'].value_counts()"
   ]
  },
  {
   "cell_type": "code",
   "execution_count": null,
   "id": "dbbba27c",
   "metadata": {},
   "outputs": [],
   "source": [
    "low_accident_rates.head()"
   ]
  },
  {
   "cell_type": "markdown",
   "id": "3cc7bc07",
   "metadata": {},
   "source": [
    "DESCRIPTION OF ACCIDENTS RELATED WITH  PURPOSE OF FLIGHTS TO GIVE INSIGHTS ON WHICH CATEGORY HAS MORE ACCIDENTS"
   ]
  },
  {
   "cell_type": "code",
   "execution_count": null,
   "id": "20493ff1",
   "metadata": {},
   "outputs": [],
   "source": [
    "##PURPOSE OF FLIGHT RISKS\n",
    "purpose_of_flight = ['Purpose.of.flight', 'Schedule', 'Investigation.Type']\n",
    "purpose_of_flight_risk = df[purpose_of_flight]"
   ]
  },
  {
   "cell_type": "code",
   "execution_count": null,
   "id": "ea78304c",
   "metadata": {},
   "outputs": [],
   "source": [
    "purpose_of_flight_risk.head()"
   ]
  },
  {
   "cell_type": "code",
   "execution_count": null,
   "id": "46cdab88",
   "metadata": {},
   "outputs": [],
   "source": [
    "#THIS VARIABLE IS TO GIVE INSIGHTS ON OPERATIONAL SAFETY OF FLIGHTS, HOW WEATHER CONDITIONS INFLUENCE ACCIDENT RATES"
   ]
  },
  {
   "cell_type": "code",
   "execution_count": null,
   "id": "68c46c7c",
   "metadata": {},
   "outputs": [],
   "source": [
    "##OPERATIONAL SAFETY STRATEGY OF AIRCRAFTS\n",
    "weather_flight_phase = ['Weather.Condition', 'Broad.phase.of.flight', 'Location', 'Country']\n",
    "weather_flight_phase_risk = df[weather_flight_phase]\n"
   ]
  },
  {
   "cell_type": "code",
   "execution_count": null,
   "id": "4ef7e312",
   "metadata": {},
   "outputs": [],
   "source": [
    "weather_flight_phase_risk.head()"
   ]
  },
  {
   "cell_type": "markdown",
   "id": "c083e71d",
   "metadata": {},
   "source": [
    "ANALYSIS OF LOW ACCIDENT RATES COLUMNS "
   ]
  },
  {
   "cell_type": "code",
   "execution_count": null,
   "id": "28dfe95e",
   "metadata": {},
   "outputs": [],
   "source": [
    "##Determine unique values in report status which shows us stage of investigation\n",
    "df['Report.Status'].value_counts(dropna=False)"
   ]
  },
  {
   "cell_type": "code",
   "execution_count": null,
   "id": "6755fb05",
   "metadata": {},
   "outputs": [],
   "source": [
    "##percentage of null values in injury severity\n",
    "to = len(df['Injury.Severity'])\n",
    "print((df['Injury.Severity'].isnull().sum() / to)*100)\n",
    "print(to)\n"
   ]
  },
  {
   "cell_type": "code",
   "execution_count": null,
   "id": "0d666f32",
   "metadata": {},
   "outputs": [],
   "source": [
    "df['Injury.Severity'].value_counts(dropna=False)"
   ]
  },
  {
   "cell_type": "code",
   "execution_count": null,
   "id": "deeefe6b",
   "metadata": {},
   "outputs": [],
   "source": [
    "##percentage of null values in aircraft damage\n",
    "tl = len(df['Aircraft.damage'])\n",
    "print((df['Aircraft.damage'].isnull().sum() / tl)*100)\n",
    "print(tl)\n"
   ]
  },
  {
   "cell_type": "code",
   "execution_count": null,
   "id": "438b2aae",
   "metadata": {},
   "outputs": [],
   "source": [
    "df['Aircraft.damage'].value_counts(dropna=False)"
   ]
  },
  {
   "cell_type": "code",
   "execution_count": null,
   "id": "9888ddec",
   "metadata": {},
   "outputs": [],
   "source": [
    "##percentage of null values in aircaft category\n",
    "tt = len(df['Aircraft.Category'])\n",
    "print((df['Aircraft.Category'].isnull().sum() / tt)*100)\n",
    "print(tt)\n"
   ]
  },
  {
   "cell_type": "code",
   "execution_count": null,
   "id": "372ef07a",
   "metadata": {},
   "outputs": [],
   "source": [
    "df['Aircraft.Category'].value_counts(dropna=False)\n",
    "df['Engine.Type'].value_counts(dropna=False)"
   ]
  },
  {
   "cell_type": "code",
   "execution_count": null,
   "id": "8e6f797d",
   "metadata": {},
   "outputs": [],
   "source": [
    "##we need these columns in order to infer aircraft category. we filter and keep null values to work with\n",
    "fill_null_air_cat = df[['Make', 'Model', 'Engine.Type', 'Number.of.Engines', 'Aircraft.Category']]\n",
    "\n",
    "fill_null_air_cat = fill_null_air_cat[fill_null_air_cat['Aircraft.Category'].isna()]\n",
    "fill_null_air_cat"
   ]
  },
  {
   "cell_type": "markdown",
   "id": "cbcc6b89",
   "metadata": {},
   "source": [
    "SPECIFICATIONS REQUIRED TO FILL NULL VALUES FOR AIRCRAFT CATEGORY"
   ]
  },
  {
   "cell_type": "code",
   "execution_count": null,
   "id": "d553370a",
   "metadata": {},
   "outputs": [],
   "source": [
    "#cant deduce aircraft category without both enginetype and number of engines hnce need to drop missing values in those 2 columns\n",
    "can_fill_air_cat = fill_null_air_cat.dropna(subset=['Engine.Type', 'Number.of.Engines'])"
   ]
  },
  {
   "cell_type": "code",
   "execution_count": null,
   "id": "15a77f0c",
   "metadata": {},
   "outputs": [],
   "source": [
    "#cant deduce aircraft category without both enginetype and number of engines hnce need to drop missing values in those 2 columns\n",
    "can_fill_air_cat = fill_null_air_cat.dropna(subset=['Engine.Type', 'Number.of.Engines'])\n",
    "fill_groups = can_fill_air_cat.groupby('Make')## Grouping aircrafts accordingto their make\n",
    "fill_groups_df = fill_groups.apply(lambda x:x)\n",
    "#fill_groups_df.to_csv(\"aircraft groups per make\")\n",
    "\n",
    "#print(fill_groups.groups)\n",
    "#can_fill_air_cat.to_csv(\"filling null aircraft category\")"
   ]
  },
  {
   "cell_type": "markdown",
   "id": "136cf387",
   "metadata": {},
   "source": [
    "FILLING NULL VALUES OF AIRCRAFT CATEGORY"
   ]
  },
  {
   "cell_type": "code",
   "execution_count": null,
   "id": "cdb6cd13",
   "metadata": {},
   "outputs": [],
   "source": [
    "# Lowercase and strip spaces for consistency\n",
    "df['Engine.Type'] = df['Engine.Type'].astype(str).str.lower().str.strip()\n",
    "\n",
    "# Create confidence column\n",
    "df['Category.Confidence'] = 'Low'\n",
    "\n",
    "# Mapping engine type → category\n",
    "engine_to_category = {\n",
    "    'reciprocating': 'Airplane',\n",
    "    'turbo shaft': 'Helicopter',\n",
    "    'turboshaft': 'Helicopter',\n",
    "    'turbo prop': 'Airplane',\n",
    "    'turboprop': 'Airplane',\n",
    "    'turbo fan': 'Airplane',\n",
    "    'turbofan': 'Airplane',\n",
    "    'turbo jet': 'Airplane',\n",
    "    'turbojet': 'Airplane',\n",
    "    'geared turbofan': 'Airplane',\n",
    "    'electric': 'Airplane',\n",
    "    'hybrid rocket': 'Rocket'\n",
    "}\n",
    "\n",
    "\n",
    "# Apply rules\n",
    "for key, value in engine_to_category.items():\n",
    "    mask = df['Engine.Type'].str.contains(key, na=False)\n",
    "    df.loc[mask & df['Aircraft.Category'].isna(), 'Aircraft.Category'] = value\n",
    "    df.loc[mask, 'Category.Confidence'] = 'High'\n",
    "\n",
    "# Mark clearly unknown cases\n",
    "unknown_mask = df['Engine.Type'].str.contains('unknown|unk|none|lr', na=False)\n",
    "df.loc[unknown_mask & df['Aircraft.Category'].isna(), 'Aircraft.Category'] = 'Unknown'\n",
    "df.loc[unknown_mask, 'Category.Confidence'] = 'Low'"
   ]
  },
  {
   "cell_type": "code",
   "execution_count": null,
   "id": "5a8d05a9",
   "metadata": {},
   "outputs": [],
   "source": []
  },
  {
   "cell_type": "code",
   "execution_count": null,
   "id": "492d1ad6",
   "metadata": {},
   "outputs": [],
   "source": [
    "new_air_cat = df[['Make', 'Model', 'Engine.Type', 'Number.of.Engines', 'Aircraft.Category']]\n",
    "new_air_cat"
   ]
  },
  {
   "cell_type": "code",
   "execution_count": null,
   "id": "0e54d32e",
   "metadata": {},
   "outputs": [],
   "source": [
    "#null aircraft categories that will be dropped\n",
    "missing_df = df[df['Aircraft.Category'].isna()]\n",
    "\n",
    "missing_df['Make'].value_counts().head(30)"
   ]
  },
  {
   "cell_type": "markdown",
   "id": "1fa7133f",
   "metadata": {},
   "source": [
    "#Aircraft Category was missing in 38% of records. Engine type rules filled ~95% with high confidence. Remaining low-information rows were labeled as Unknown"
   ]
  },
  {
   "cell_type": "code",
   "execution_count": null,
   "id": "a7a4602f",
   "metadata": {},
   "outputs": [],
   "source": [
    "df_cleaned = df.dropna(subset=['Aircraft.Category']).copy()\n",
    "df_cleaned['Aircraft.Category'].isna().sum()"
   ]
  },
  {
   "cell_type": "markdown",
   "id": "8a854d70",
   "metadata": {},
   "source": [
    "CREATING A NEW COLUMN CALLED TOTAL CASUALTIES THAT COMBINES FATAL SERIOUS MINOR AND UNINJURED COLUMNS"
   ]
  },
  {
   "cell_type": "code",
   "execution_count": null,
   "id": "a83641b4",
   "metadata": {},
   "outputs": [],
   "source": [
    "total_casualties = (\n",
    "    df['Total.Fatal.Injuries'].fillna(0) + ##fill null values with 0 to avoid getting NaN during addition\n",
    "    df['Total.Serious.Injuries'].fillna(0) +\n",
    "    df['Total.Minor.Injuries'].fillna(0) +\n",
    "    df['Total.Uninjured'].fillna(0)\n",
    ")\n",
    "df['Total.Casualties'] = total_casualties\n",
    "aircraft_accident_rates =df[['Aircraft.Category','Injury.Severity','Aircraft.damage', 'Total.Casualties']]\n",
    "aircraft_accident_rates"
   ]
  },
  {
   "cell_type": "code",
   "execution_count": null,
   "id": "10380e72",
   "metadata": {},
   "outputs": [],
   "source": [
    "#evaluating total casualties \n",
    "total_casualty_csv = df['Total.Casualties'].to_csv('Casualties', index=False)\n",
    "df['Total.Casualties'].unique()\n",
    "df['Total.Casualties'].value_counts().sort_index()\n",
    "df['Total.Casualties'].describe()"
   ]
  },
  {
   "cell_type": "markdown",
   "id": "45a45c8f",
   "metadata": {},
   "source": [
    "EVALUATION OF ALL CALATIES PER CATEGORY"
   ]
  },
  {
   "cell_type": "code",
   "execution_count": null,
   "id": "eb0cc932",
   "metadata": {},
   "outputs": [],
   "source": [
    "## evaluating all casualties per category\n",
    "df['HasCasualties'] = df['Total.Casualties'] > 0\n",
    "casualties_percentage = df.groupby('Aircraft.Category')['HasCasualties'].mean() * 100\n",
    "\n",
    "\n",
    "#max_casualties\n",
    "#avg_casualties \n",
    "#accidents_by_category\n",
    "\n",
    "helicopters_airplanes_casualties_percentage = casualties_percentage.loc[['Helicopter', 'Airplane']]\n",
    "helicopters_airplanes_casualties_percentage\n"
   ]
  },
  {
   "cell_type": "markdown",
   "id": "1b2fca0a",
   "metadata": {},
   "source": [
    "EVALUATION OF SEVERE AND FATAL INJURIES IN PERCENTAGE"
   ]
  },
  {
   "cell_type": "code",
   "execution_count": null,
   "id": "4e9d8453",
   "metadata": {},
   "outputs": [],
   "source": [
    "##evaluate categories with severe and fatal injuries\n",
    "df['HasSevereCasualty'] = df['Total.Serious.Injuries'] + df['Total.Fatal.Injuries'] > 0\n",
    "severe_casualties_percentage = df.groupby('Aircraft.Category')['HasSevereCasualty'].mean() * 100\n",
    "severe_casualties_percentage\n",
    "helicopters_airplanes_severe_casualties_percentage = severe_casualties_percentage.loc[['Helicopter', 'Airplane']]\n",
    "helicopters_airplanes_severe_casualties_percentage"
   ]
  },
  {
   "cell_type": "code",
   "execution_count": null,
   "id": "35459067",
   "metadata": {},
   "outputs": [],
   "source": [
    "##plotting severe and fatal injuries in helicopters and airplanes\n",
    "import matplotlib.pyplot as plt\n",
    "\n",
    "helicopters_airplanes_severe_casualties_percentage.T.plot(kind='bar', figsize=(8,5))\n",
    "plt.title('Severe.Casualties: Helicopters vs Airplanes')\n",
    "plt.ylabel('Percentage (%)')\n",
    "plt.xlabel('Severity')\n",
    "plt.xticks(rotation=0)\n",
    "plt.legend(title='Aircraft Category')\n",
    "plt.show()"
   ]
  },
  {
   "cell_type": "markdown",
   "id": "69e66759",
   "metadata": {},
   "source": [
    "DETERMINING THE AIRCRAFT DAMAGE IN ACCIDENTS IN PERCENTAGE"
   ]
  },
  {
   "cell_type": "code",
   "execution_count": null,
   "id": "042f173d",
   "metadata": {},
   "outputs": [],
   "source": [
    "damage_dist = aircraft_accident_rates.groupby(['Aircraft.Category', 'Aircraft.damage']).size().unstack(fill_value=0)\n",
    "damage_dist_percentage = aircraft_accident_rates.groupby(['Aircraft.Category', 'Aircraft.damage']).size().groupby(level=0).apply(lambda x: (x /x.sum())*100).unstack(fill_value=0)\n",
    "damage_dist_percentage \n",
    "helicopters_airplanes_damage_dist = damage_dist_percentage.loc[['Helicopter', 'Airplane']]\n",
    "helicopters_airplanes_damage_dist"
   ]
  },
  {
   "cell_type": "code",
   "execution_count": null,
   "id": "5bc54593",
   "metadata": {},
   "outputs": [],
   "source": [
    "import matplotlib.pyplot as plt\n",
    "\n",
    "helicopters_airplanes_damage_dist.T.plot(kind='bar', figsize=(8,5))\n",
    "plt.title('Aircraft.damage: Helicopters vs Airplanes')\n",
    "plt.ylabel('Percentage (%)')\n",
    "plt.xlabel('Damage group')\n",
    "plt.xticks(rotation=0)\n",
    "plt.legend(title='Aircraft Category')\n",
    "plt.show()"
   ]
  },
  {
   "cell_type": "markdown",
   "id": "10b540fa",
   "metadata": {},
   "source": [
    "EXAMINING INJURY SEVERIITY IN ARICRFAT ACCIDENTS"
   ]
  },
  {
   "cell_type": "code",
   "execution_count": null,
   "id": "180de394",
   "metadata": {},
   "outputs": [],
   "source": [
    "##injury severity is has too many categories hence th need to group them into smaller workable categories\n",
    "def simplify_injury(severity):\n",
    "    if isinstance(severity, str) and severity.startswith('Fatal'):\n",
    "        return 'Fatal'\n",
    "    elif severity == 'Non-Fatal':\n",
    "        return 'Non-Fatal'\n",
    "    elif severity == 'Incident':\n",
    "        return 'Incident'\n",
    "    else:\n",
    "        return 'Unknown'\n",
    "\n",
    "aircraft_accident_rates['Severity_Group'] = aircraft_accident_rates['Injury.Severity'].apply(simplify_injury)"
   ]
  },
  {
   "cell_type": "code",
   "execution_count": null,
   "id": "679d1e16",
   "metadata": {},
   "outputs": [],
   "source": [
    "#shows percentages and converts helicopters and airplanes into 2 categories\n",
    "severity_group_counts = aircraft_accident_rates.groupby(['Aircraft.Category', 'Severity_Group']).size().unstack(fill_value=0)\n",
    "severity_group_percentage = aircraft_accident_rates.groupby(['Aircraft.Category', 'Severity_Group']).size() \\\n",
    "    .groupby(level=0).apply(lambda x: (x / x.sum())*100).unstack(fill_value=0)\n",
    "\n",
    "# Filter for Helicopters and Airplanes\n",
    "severity_dist_helicopters_airplanes = severity_group_percentage.loc[['Helicopter', 'Airplane']]\n",
    "severity_dist_helicopters_airplanes"
   ]
  },
  {
   "cell_type": "code",
   "execution_count": null,
   "id": "da412338",
   "metadata": {},
   "outputs": [],
   "source": [
    "##plotting percentages of injury severity per group\n",
    "import matplotlib.pyplot as plt\n",
    "\n",
    "severity_dist_helicopters_airplanes.T.plot(kind='bar', figsize=(8,5))\n",
    "plt.title('Injury Severity: Helicopters vs Airplanes')\n",
    "plt.ylabel('Percentage (%)')\n",
    "plt.xlabel('Severity Group')\n",
    "plt.xticks(rotation=0)\n",
    "plt.legend(title='Aircraft Category')\n",
    "plt.show()"
   ]
  },
  {
   "cell_type": "markdown",
   "id": "c336600e",
   "metadata": {},
   "source": [
    "DEREMINING PERSONAL AND COMMERCIAL FLIGHT DISTRIBUTIONS"
   ]
  },
  {
   "cell_type": "code",
   "execution_count": null,
   "id": "cd2d35cb",
   "metadata": {},
   "outputs": [],
   "source": [
    "\n",
    "flight_purpose = ['Purpose.of.flight', 'Schedule', 'Investigation.Type']\n",
    "flight_purpose = df[flight_purpose]\n",
    "flight_purpose.head()\n",
    "\n",
    "flight_purpose.groupby('Purpose.of.flight')"
   ]
  },
  {
   "cell_type": "code",
   "execution_count": null,
   "id": "7c3e264f",
   "metadata": {},
   "outputs": [],
   "source": [
    "commercial_categories = [\n",
    "    'Business', 'Executive/corporate', 'Aerial Application', 'Aerial Observation',\n",
    "    'Public Aircraft', 'Public Aircraft - Federal', 'Public Aircraft - State',\n",
    "    'Public Aircraft - Local', 'Other Work Use', 'Positioning', 'Ferry',\n",
    "    'External Load', 'Firefighting', 'Banner Tow', 'Skydiving', 'Glider Tow',\n",
    "    'Air Race/show', 'Air Race show', 'Flight Test', 'Air Drop',\n",
    "    'PUBS', 'PUBL', 'ASHO'\n",
    "]\n",
    "\n",
    "private_categories = [\n",
    "    'Personal', 'Instructional'\n",
    "]\n",
    "\n",
    "# Create new classification column\n",
    "flight_purpose['Flight.Use.Type'] = flight_purpose['Purpose.of.flight'].apply(\n",
    "    lambda x: 'Commercial' if x in commercial_categories\n",
    "    else 'Private' if x in private_categories\n",
    "    else 'Unknown'\n",
    ")"
   ]
  },
  {
   "cell_type": "code",
   "execution_count": null,
   "id": "dd71daff",
   "metadata": {},
   "outputs": [],
   "source": [
    "flight_purpose['Flight.Use.Type'].value_counts()"
   ]
  },
  {
   "cell_type": "code",
   "execution_count": null,
   "id": "208cf336",
   "metadata": {},
   "outputs": [],
   "source": [
    "flight_investigations = pd.crosstab(flight_purpose['Flight.Use.Type'], flight_purpose['Investigation.Type'])\n",
    "print(flight_investigations)"
   ]
  },
  {
   "cell_type": "markdown",
   "id": "3ffa142d",
   "metadata": {},
   "source": [
    "DETERMINING ACCIDENTS VS INCIDENT FLIGHTS"
   ]
  },
  {
   "cell_type": "code",
   "execution_count": null,
   "id": "e25c4082",
   "metadata": {},
   "outputs": [],
   "source": [
    "# Keep only Accident and Incident columns\n",
    "flight_investigations_clean = flight_investigations[['Accident', 'Incident']]\n",
    "print(flight_investigations_clean)"
   ]
  },
  {
   "cell_type": "markdown",
   "id": "389e3a4a",
   "metadata": {},
   "source": [
    "DETERMINIGN WHICH PRIVATE OR COMMERCIAL FLIGHTS WERE INVLOVED IN ACCIDENTS OR INCIDENTS"
   ]
  },
  {
   "cell_type": "code",
   "execution_count": null,
   "id": "13b66dde",
   "metadata": {},
   "outputs": [],
   "source": [
    "# calculate row totals\n",
    "row_totals = flight_investigations_clean.sum(axis=1)\n",
    "\n",
    "# calculate percentages within each flight type\n",
    "percent_within_type = flight_investigations_clean.div(row_totals, axis=0) * 100\n",
    "\n",
    "print(percent_within_type)\n",
    "#ca"
   ]
  },
  {
   "cell_type": "markdown",
   "id": "58a80a00",
   "metadata": {},
   "source": [
    "DETERMINE PERCENTAGE OF PRIVATE OR COMMERCIAL FLIGHTS INVOLVED IN ACCIDENTS"
   ]
  },
  {
   "cell_type": "code",
   "execution_count": null,
   "id": "ecee576c",
   "metadata": {},
   "outputs": [],
   "source": [
    "# Total accidents across all flight types\n",
    "total_accidents = flight_investigations_clean['Accident'].sum()\n",
    "\n",
    "# percentage of total accidents by flight type\n",
    "percent_of_total_accidents = (flight_investigations_clean['Accident'] / total_accidents) * 100\n",
    "\n",
    "print(percent_of_total_accidents)"
   ]
  },
  {
   "cell_type": "markdown",
   "id": "b00904db",
   "metadata": {},
   "source": [
    "DETERMINE THE ACCIDENTS THAT WERE SCHEDULED VS UNSCHEDULED"
   ]
  },
  {
   "cell_type": "code",
   "execution_count": null,
   "id": "dfc58339",
   "metadata": {},
   "outputs": [],
   "source": [
    "flight_purpose['Schedule.Type'] = flight_purpose['Schedule'].apply(\n",
    "    lambda x: 'Scheduled' if x == 'SCHD' \n",
    "    else 'Non-Scheduled' if x == 'NSCH'\n",
    "    else 'Unknown'\n",
    ")"
   ]
  },
  {
   "cell_type": "code",
   "execution_count": null,
   "id": "abd64602",
   "metadata": {},
   "outputs": [],
   "source": [
    "flight_purpose['Schedule.Type'].value_counts()\n",
    "\n",
    "##Most of the flights don’t have schedule information recorded (Unknown = 81,865)."
   ]
  },
  {
   "cell_type": "markdown",
   "id": "f44996ee",
   "metadata": {},
   "source": [
    "DETERMINE ACCIDENTS DUE TO WETHER CONDITIONS CATEGORIES"
   ]
  },
  {
   "cell_type": "markdown",
   "id": "9a30f1a3",
   "metadata": {},
   "source": [
    "Weather conditions\n",
    "VMC - Good visual conditions\n",
    "IMC - Instrument-only conditions (poor visibility)\n",
    "UNK -  not recorded\n",
    "\n",
    "\n"
   ]
  },
  {
   "cell_type": "code",
   "execution_count": null,
   "id": "d6b8a355",
   "metadata": {},
   "outputs": [],
   "source": [
    "weather_flight_phase = ['Aircraft.Category','Weather.Condition', 'Broad.phase.of.flight']\n",
    "weather_flight_phase = df[weather_flight_phase]\n",
    "weather_flight_phase_categories = weather_flight_phase.groupby('Aircraft.Category')\n",
    "\n",
    "filtered_df = weather_flight_phase[weather_flight_phase['Aircraft.Category'].isin(['Airplane', 'Helicopter'])]\n",
    "\n",
    "\n",
    "df['Weather.Condition'] = df['Weather.Condition'].str.upper()  # Converts 'Unk' -> 'UNK'\n",
    "df['Weather.Condition'] = df['Weather.Condition'].fillna('UNKNOWN')\n",
    "\n",
    "#Use crosstab to get counts of weather conditions for each aircraft category - counts occurences of categorical variables\n",
    "weather_counts_table = pd.crosstab(filtered_df['Aircraft.Category'], filtered_df['Weather.Condition'])\n",
    "\n",
    "print(weather_counts_table)"
   ]
  },
  {
   "cell_type": "code",
   "execution_count": null,
   "id": "309e83e2",
   "metadata": {},
   "outputs": [],
   "source": [
    "#accidents per weather conditions percentages\n",
    "weather_counts_table = pd.DataFrame({\n",
    "    'IMC': [1409, 113],\n",
    "    'UNK': [386, 49],\n",
    "    'UNKNOWN': [3053, 563],\n",
    "    'VMC': [22769, 2715]\n",
    "}, index=['Airplane', 'Helicopter'])\n",
    "\n",
    "weather_counts_percent = weather_counts_table.div(weather_counts_table.sum(axis=1), axis=0) * 100\n",
    "\n",
    "print(weather_counts_percent)"
   ]
  },
  {
   "cell_type": "markdown",
   "id": "57c2a491",
   "metadata": {},
   "source": [
    "BUSINESS RECOMMENDATIONS"
   ]
  },
  {
   "cell_type": "markdown",
   "id": "0e37be6a",
   "metadata": {},
   "source": [
    "AIRCRAFTS DAMAGED"
   ]
  },
  {
   "cell_type": "code",
   "execution_count": null,
   "id": "e169c848",
   "metadata": {},
   "outputs": [],
   "source": [
    "aircraft_damage_severity = ['Aircraft.damage', 'Aircraft.Category']\n",
    "aircraft_damage_severity = df[aircraft_damage_severity]\n",
    "aircraft_damage_counts = df.groupby(['Aircraft.Category', 'Aircraft.damage']).size().reset_index(name='Count')\n",
    "#aircraft_damage_counts.to_csv('aircraft_damage_severity_counts.csv', index=False)"
   ]
  },
  {
   "cell_type": "markdown",
   "id": "ad19a3aa",
   "metadata": {},
   "source": [
    "##percenatge of aircrafts damaged"
   ]
  },
  {
   "cell_type": "code",
   "execution_count": null,
   "id": "bcb21e69",
   "metadata": {},
   "outputs": [],
   "source": [
    "df_filtered_data = df[df['Aircraft.Category'].isin(['Airplane', 'Helicopter'])]\n",
    "\n",
    "aircraft_damage_percentage = (\n",
    "    df_filtered_data.groupby('Aircraft.Category')['Aircraft.damage']\n",
    "    .value_counts(normalize=True)\n",
    "    .mul(100)#multipy coz value_counts gives decimals\n",
    "    .rename('Percentage')\n",
    "    .reset_index()\n",
    ")\n",
    "\n",
    "aircraft_damage_percentage.to_csv('aircraft_damage_severity_percentage.csv', index=False)"
   ]
  },
  {
   "cell_type": "markdown",
   "id": "7ea1ceb3",
   "metadata": {},
   "source": [
    "INJURY SEVERITY AND CASUALTIES"
   ]
  },
  {
   "cell_type": "code",
   "execution_count": null,
   "id": "b581d74d",
   "metadata": {},
   "outputs": [],
   "source": [
    "severity_dist_helicopters_airplanes.to_csv('injury_severity_and_casualties.csv', index=True)"
   ]
  },
  {
   "cell_type": "markdown",
   "id": "ec05c0de",
   "metadata": {},
   "source": [
    "Aircraft.Category\n",
    "Helicopter    34.773483\n",
    "Airplane      26.985460\n",
    "\n",
    "percentage of casualties per category"
   ]
  },
  {
   "cell_type": "markdown",
   "id": "82220118",
   "metadata": {},
   "source": [
    "OPERATIONAL SAFETY - WEATHER CONDITIONS THAT INFLENCE ACCIDENTS"
   ]
  },
  {
   "cell_type": "code",
   "execution_count": null,
   "id": "ac11362b",
   "metadata": {},
   "outputs": [],
   "source": [
    "weather_counts_percent = weather_counts_percent.to_csv('Weather conditions influence on accidents.csv', index=False)\n",
    "\n",
    "#Weather conditions\n",
    "#VMC - Good visual conditions\n",
    "#IMC - Instrument-only conditions (poor visibility)\n",
    "#UNK -  not recorded"
   ]
  },
  {
   "cell_type": "code",
   "execution_count": null,
   "id": "9296d577",
   "metadata": {},
   "outputs": [],
   "source": []
  }
 ],
 "metadata": {
  "kernelspec": {
   "display_name": "Python (test-env)",
   "language": "python",
   "name": "learn-env"
  },
  "language_info": {
   "codemirror_mode": {
    "name": "ipython",
    "version": 3
   },
   "file_extension": ".py",
   "mimetype": "text/x-python",
   "name": "python",
   "nbconvert_exporter": "python",
   "pygments_lexer": "ipython3",
   "version": "3.11.7"
  }
 },
 "nbformat": 4,
 "nbformat_minor": 5
}
